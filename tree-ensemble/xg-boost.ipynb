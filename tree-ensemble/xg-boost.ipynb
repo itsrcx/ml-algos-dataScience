{
 "cells": [
  {
   "cell_type": "code",
   "execution_count": 1,
   "metadata": {},
   "outputs": [
    {
     "name": "stderr",
     "output_type": "stream",
     "text": [
      "/usr/lib/python3/dist-packages/scipy/__init__.py:146: UserWarning: A NumPy version >=1.17.3 and <1.25.0 is required for this version of SciPy (detected version 1.25.1\n",
      "  warnings.warn(f\"A NumPy version >={np_minversion} and <{np_maxversion}\"\n"
     ]
    },
    {
     "data": {
      "text/html": [
       "<div>\n",
       "<style scoped>\n",
       "    .dataframe tbody tr th:only-of-type {\n",
       "        vertical-align: middle;\n",
       "    }\n",
       "\n",
       "    .dataframe tbody tr th {\n",
       "        vertical-align: top;\n",
       "    }\n",
       "\n",
       "    .dataframe thead th {\n",
       "        text-align: right;\n",
       "    }\n",
       "</style>\n",
       "<table border=\"1\" class=\"dataframe\">\n",
       "  <thead>\n",
       "    <tr style=\"text-align: right;\">\n",
       "      <th></th>\n",
       "      <th>carat</th>\n",
       "      <th>cut</th>\n",
       "      <th>color</th>\n",
       "      <th>clarity</th>\n",
       "      <th>depth</th>\n",
       "      <th>table</th>\n",
       "      <th>price</th>\n",
       "      <th>x</th>\n",
       "      <th>y</th>\n",
       "      <th>z</th>\n",
       "    </tr>\n",
       "  </thead>\n",
       "  <tbody>\n",
       "    <tr>\n",
       "      <th>0</th>\n",
       "      <td>0.23</td>\n",
       "      <td>Ideal</td>\n",
       "      <td>E</td>\n",
       "      <td>SI2</td>\n",
       "      <td>61.5</td>\n",
       "      <td>55.0</td>\n",
       "      <td>326</td>\n",
       "      <td>3.95</td>\n",
       "      <td>3.98</td>\n",
       "      <td>2.43</td>\n",
       "    </tr>\n",
       "    <tr>\n",
       "      <th>1</th>\n",
       "      <td>0.21</td>\n",
       "      <td>Premium</td>\n",
       "      <td>E</td>\n",
       "      <td>SI1</td>\n",
       "      <td>59.8</td>\n",
       "      <td>61.0</td>\n",
       "      <td>326</td>\n",
       "      <td>3.89</td>\n",
       "      <td>3.84</td>\n",
       "      <td>2.31</td>\n",
       "    </tr>\n",
       "    <tr>\n",
       "      <th>2</th>\n",
       "      <td>0.23</td>\n",
       "      <td>Good</td>\n",
       "      <td>E</td>\n",
       "      <td>VS1</td>\n",
       "      <td>56.9</td>\n",
       "      <td>65.0</td>\n",
       "      <td>327</td>\n",
       "      <td>4.05</td>\n",
       "      <td>4.07</td>\n",
       "      <td>2.31</td>\n",
       "    </tr>\n",
       "    <tr>\n",
       "      <th>3</th>\n",
       "      <td>0.29</td>\n",
       "      <td>Premium</td>\n",
       "      <td>I</td>\n",
       "      <td>VS2</td>\n",
       "      <td>62.4</td>\n",
       "      <td>58.0</td>\n",
       "      <td>334</td>\n",
       "      <td>4.20</td>\n",
       "      <td>4.23</td>\n",
       "      <td>2.63</td>\n",
       "    </tr>\n",
       "    <tr>\n",
       "      <th>4</th>\n",
       "      <td>0.31</td>\n",
       "      <td>Good</td>\n",
       "      <td>J</td>\n",
       "      <td>SI2</td>\n",
       "      <td>63.3</td>\n",
       "      <td>58.0</td>\n",
       "      <td>335</td>\n",
       "      <td>4.34</td>\n",
       "      <td>4.35</td>\n",
       "      <td>2.75</td>\n",
       "    </tr>\n",
       "  </tbody>\n",
       "</table>\n",
       "</div>"
      ],
      "text/plain": [
       "   carat      cut color clarity  depth  table  price     x     y     z\n",
       "0   0.23    Ideal     E     SI2   61.5   55.0    326  3.95  3.98  2.43\n",
       "1   0.21  Premium     E     SI1   59.8   61.0    326  3.89  3.84  2.31\n",
       "2   0.23     Good     E     VS1   56.9   65.0    327  4.05  4.07  2.31\n",
       "3   0.29  Premium     I     VS2   62.4   58.0    334  4.20  4.23  2.63\n",
       "4   0.31     Good     J     SI2   63.3   58.0    335  4.34  4.35  2.75"
      ]
     },
     "execution_count": 1,
     "metadata": {},
     "output_type": "execute_result"
    }
   ],
   "source": [
    "import seaborn as sns\n",
    "\n",
    "import pandas as pd\n",
    "\n",
    "import numpy as np\n",
    "\n",
    "import matplotlib.pyplot as plt\n",
    "\n",
    "import warnings"
   ]
  },
  {
   "cell_type": "code",
   "execution_count": 2,
   "metadata": {},
   "outputs": [
    {
     "data": {
      "text/html": [
       "<div>\n",
       "<style scoped>\n",
       "    .dataframe tbody tr th:only-of-type {\n",
       "        vertical-align: middle;\n",
       "    }\n",
       "\n",
       "    .dataframe tbody tr th {\n",
       "        vertical-align: top;\n",
       "    }\n",
       "\n",
       "    .dataframe thead th {\n",
       "        text-align: right;\n",
       "    }\n",
       "</style>\n",
       "<table border=\"1\" class=\"dataframe\">\n",
       "  <thead>\n",
       "    <tr style=\"text-align: right;\">\n",
       "      <th></th>\n",
       "      <th>carat</th>\n",
       "      <th>cut</th>\n",
       "      <th>color</th>\n",
       "      <th>clarity</th>\n",
       "      <th>depth</th>\n",
       "      <th>table</th>\n",
       "      <th>price</th>\n",
       "      <th>x</th>\n",
       "      <th>y</th>\n",
       "      <th>z</th>\n",
       "    </tr>\n",
       "  </thead>\n",
       "  <tbody>\n",
       "    <tr>\n",
       "      <th>0</th>\n",
       "      <td>0.23</td>\n",
       "      <td>Ideal</td>\n",
       "      <td>E</td>\n",
       "      <td>SI2</td>\n",
       "      <td>61.5</td>\n",
       "      <td>55.0</td>\n",
       "      <td>326</td>\n",
       "      <td>3.95</td>\n",
       "      <td>3.98</td>\n",
       "      <td>2.43</td>\n",
       "    </tr>\n",
       "    <tr>\n",
       "      <th>1</th>\n",
       "      <td>0.21</td>\n",
       "      <td>Premium</td>\n",
       "      <td>E</td>\n",
       "      <td>SI1</td>\n",
       "      <td>59.8</td>\n",
       "      <td>61.0</td>\n",
       "      <td>326</td>\n",
       "      <td>3.89</td>\n",
       "      <td>3.84</td>\n",
       "      <td>2.31</td>\n",
       "    </tr>\n",
       "    <tr>\n",
       "      <th>2</th>\n",
       "      <td>0.23</td>\n",
       "      <td>Good</td>\n",
       "      <td>E</td>\n",
       "      <td>VS1</td>\n",
       "      <td>56.9</td>\n",
       "      <td>65.0</td>\n",
       "      <td>327</td>\n",
       "      <td>4.05</td>\n",
       "      <td>4.07</td>\n",
       "      <td>2.31</td>\n",
       "    </tr>\n",
       "    <tr>\n",
       "      <th>3</th>\n",
       "      <td>0.29</td>\n",
       "      <td>Premium</td>\n",
       "      <td>I</td>\n",
       "      <td>VS2</td>\n",
       "      <td>62.4</td>\n",
       "      <td>58.0</td>\n",
       "      <td>334</td>\n",
       "      <td>4.20</td>\n",
       "      <td>4.23</td>\n",
       "      <td>2.63</td>\n",
       "    </tr>\n",
       "    <tr>\n",
       "      <th>4</th>\n",
       "      <td>0.31</td>\n",
       "      <td>Good</td>\n",
       "      <td>J</td>\n",
       "      <td>SI2</td>\n",
       "      <td>63.3</td>\n",
       "      <td>58.0</td>\n",
       "      <td>335</td>\n",
       "      <td>4.34</td>\n",
       "      <td>4.35</td>\n",
       "      <td>2.75</td>\n",
       "    </tr>\n",
       "  </tbody>\n",
       "</table>\n",
       "</div>"
      ],
      "text/plain": [
       "   carat      cut color clarity  depth  table  price     x     y     z\n",
       "0   0.23    Ideal     E     SI2   61.5   55.0    326  3.95  3.98  2.43\n",
       "1   0.21  Premium     E     SI1   59.8   61.0    326  3.89  3.84  2.31\n",
       "2   0.23     Good     E     VS1   56.9   65.0    327  4.05  4.07  2.31\n",
       "3   0.29  Premium     I     VS2   62.4   58.0    334  4.20  4.23  2.63\n",
       "4   0.31     Good     J     SI2   63.3   58.0    335  4.34  4.35  2.75"
      ]
     },
     "execution_count": 2,
     "metadata": {},
     "output_type": "execute_result"
    }
   ],
   "source": [
    "warnings.filterwarnings(\"ignore\")\n",
    "diamonds = sns.load_dataset(\"diamonds\")\n",
    "diamonds.head()"
   ]
  },
  {
   "cell_type": "code",
   "execution_count": 3,
   "metadata": {},
   "outputs": [
    {
     "data": {
      "text/plain": [
       "(53940, 10)"
      ]
     },
     "execution_count": 3,
     "metadata": {},
     "output_type": "execute_result"
    }
   ],
   "source": [
    "diamonds.shape"
   ]
  },
  {
   "cell_type": "code",
   "execution_count": 4,
   "metadata": {},
   "outputs": [
    {
     "name": "stdout",
     "output_type": "stream",
     "text": [
      "<class 'pandas.core.frame.DataFrame'>\n",
      "RangeIndex: 53940 entries, 0 to 53939\n",
      "Data columns (total 10 columns):\n",
      " #   Column   Non-Null Count  Dtype   \n",
      "---  ------   --------------  -----   \n",
      " 0   carat    53940 non-null  float64 \n",
      " 1   cut      53940 non-null  category\n",
      " 2   color    53940 non-null  category\n",
      " 3   clarity  53940 non-null  category\n",
      " 4   depth    53940 non-null  float64 \n",
      " 5   table    53940 non-null  float64 \n",
      " 6   price    53940 non-null  int64   \n",
      " 7   x        53940 non-null  float64 \n",
      " 8   y        53940 non-null  float64 \n",
      " 9   z        53940 non-null  float64 \n",
      "dtypes: category(3), float64(6), int64(1)\n",
      "memory usage: 3.0 MB\n"
     ]
    }
   ],
   "source": [
    "diamonds.info()"
   ]
  },
  {
   "cell_type": "code",
   "execution_count": 5,
   "metadata": {},
   "outputs": [
    {
     "data": {
      "text/html": [
       "<div>\n",
       "<style scoped>\n",
       "    .dataframe tbody tr th:only-of-type {\n",
       "        vertical-align: middle;\n",
       "    }\n",
       "\n",
       "    .dataframe tbody tr th {\n",
       "        vertical-align: top;\n",
       "    }\n",
       "\n",
       "    .dataframe thead th {\n",
       "        text-align: right;\n",
       "    }\n",
       "</style>\n",
       "<table border=\"1\" class=\"dataframe\">\n",
       "  <thead>\n",
       "    <tr style=\"text-align: right;\">\n",
       "      <th></th>\n",
       "      <th>carat</th>\n",
       "      <th>depth</th>\n",
       "      <th>table</th>\n",
       "      <th>price</th>\n",
       "      <th>x</th>\n",
       "      <th>y</th>\n",
       "      <th>z</th>\n",
       "    </tr>\n",
       "  </thead>\n",
       "  <tbody>\n",
       "    <tr>\n",
       "      <th>count</th>\n",
       "      <td>53940.000000</td>\n",
       "      <td>53940.000000</td>\n",
       "      <td>53940.000000</td>\n",
       "      <td>53940.000000</td>\n",
       "      <td>53940.000000</td>\n",
       "      <td>53940.000000</td>\n",
       "      <td>53940.000000</td>\n",
       "    </tr>\n",
       "    <tr>\n",
       "      <th>mean</th>\n",
       "      <td>0.797940</td>\n",
       "      <td>61.749405</td>\n",
       "      <td>57.457184</td>\n",
       "      <td>3932.799722</td>\n",
       "      <td>5.731157</td>\n",
       "      <td>5.734526</td>\n",
       "      <td>3.538734</td>\n",
       "    </tr>\n",
       "    <tr>\n",
       "      <th>std</th>\n",
       "      <td>0.474011</td>\n",
       "      <td>1.432621</td>\n",
       "      <td>2.234491</td>\n",
       "      <td>3989.439738</td>\n",
       "      <td>1.121761</td>\n",
       "      <td>1.142135</td>\n",
       "      <td>0.705699</td>\n",
       "    </tr>\n",
       "    <tr>\n",
       "      <th>min</th>\n",
       "      <td>0.200000</td>\n",
       "      <td>43.000000</td>\n",
       "      <td>43.000000</td>\n",
       "      <td>326.000000</td>\n",
       "      <td>0.000000</td>\n",
       "      <td>0.000000</td>\n",
       "      <td>0.000000</td>\n",
       "    </tr>\n",
       "    <tr>\n",
       "      <th>25%</th>\n",
       "      <td>0.400000</td>\n",
       "      <td>61.000000</td>\n",
       "      <td>56.000000</td>\n",
       "      <td>950.000000</td>\n",
       "      <td>4.710000</td>\n",
       "      <td>4.720000</td>\n",
       "      <td>2.910000</td>\n",
       "    </tr>\n",
       "    <tr>\n",
       "      <th>50%</th>\n",
       "      <td>0.700000</td>\n",
       "      <td>61.800000</td>\n",
       "      <td>57.000000</td>\n",
       "      <td>2401.000000</td>\n",
       "      <td>5.700000</td>\n",
       "      <td>5.710000</td>\n",
       "      <td>3.530000</td>\n",
       "    </tr>\n",
       "    <tr>\n",
       "      <th>75%</th>\n",
       "      <td>1.040000</td>\n",
       "      <td>62.500000</td>\n",
       "      <td>59.000000</td>\n",
       "      <td>5324.250000</td>\n",
       "      <td>6.540000</td>\n",
       "      <td>6.540000</td>\n",
       "      <td>4.040000</td>\n",
       "    </tr>\n",
       "    <tr>\n",
       "      <th>max</th>\n",
       "      <td>5.010000</td>\n",
       "      <td>79.000000</td>\n",
       "      <td>95.000000</td>\n",
       "      <td>18823.000000</td>\n",
       "      <td>10.740000</td>\n",
       "      <td>58.900000</td>\n",
       "      <td>31.800000</td>\n",
       "    </tr>\n",
       "  </tbody>\n",
       "</table>\n",
       "</div>"
      ],
      "text/plain": [
       "              carat         depth         table         price             x  \\\n",
       "count  53940.000000  53940.000000  53940.000000  53940.000000  53940.000000   \n",
       "mean       0.797940     61.749405     57.457184   3932.799722      5.731157   \n",
       "std        0.474011      1.432621      2.234491   3989.439738      1.121761   \n",
       "min        0.200000     43.000000     43.000000    326.000000      0.000000   \n",
       "25%        0.400000     61.000000     56.000000    950.000000      4.710000   \n",
       "50%        0.700000     61.800000     57.000000   2401.000000      5.700000   \n",
       "75%        1.040000     62.500000     59.000000   5324.250000      6.540000   \n",
       "max        5.010000     79.000000     95.000000  18823.000000     10.740000   \n",
       "\n",
       "                  y             z  \n",
       "count  53940.000000  53940.000000  \n",
       "mean       5.734526      3.538734  \n",
       "std        1.142135      0.705699  \n",
       "min        0.000000      0.000000  \n",
       "25%        4.720000      2.910000  \n",
       "50%        5.710000      3.530000  \n",
       "75%        6.540000      4.040000  \n",
       "max       58.900000     31.800000  "
      ]
     },
     "execution_count": 5,
     "metadata": {},
     "output_type": "execute_result"
    }
   ],
   "source": [
    "diamonds.describe()"
   ]
  },
  {
   "cell_type": "code",
   "execution_count": 6,
   "metadata": {},
   "outputs": [
    {
     "data": {
      "text/html": [
       "<div>\n",
       "<style scoped>\n",
       "    .dataframe tbody tr th:only-of-type {\n",
       "        vertical-align: middle;\n",
       "    }\n",
       "\n",
       "    .dataframe tbody tr th {\n",
       "        vertical-align: top;\n",
       "    }\n",
       "\n",
       "    .dataframe thead th {\n",
       "        text-align: right;\n",
       "    }\n",
       "</style>\n",
       "<table border=\"1\" class=\"dataframe\">\n",
       "  <thead>\n",
       "    <tr style=\"text-align: right;\">\n",
       "      <th></th>\n",
       "      <th>cut</th>\n",
       "      <th>color</th>\n",
       "      <th>clarity</th>\n",
       "    </tr>\n",
       "  </thead>\n",
       "  <tbody>\n",
       "    <tr>\n",
       "      <th>count</th>\n",
       "      <td>53940</td>\n",
       "      <td>53940</td>\n",
       "      <td>53940</td>\n",
       "    </tr>\n",
       "    <tr>\n",
       "      <th>unique</th>\n",
       "      <td>5</td>\n",
       "      <td>7</td>\n",
       "      <td>8</td>\n",
       "    </tr>\n",
       "    <tr>\n",
       "      <th>top</th>\n",
       "      <td>Ideal</td>\n",
       "      <td>G</td>\n",
       "      <td>SI1</td>\n",
       "    </tr>\n",
       "    <tr>\n",
       "      <th>freq</th>\n",
       "      <td>21551</td>\n",
       "      <td>11292</td>\n",
       "      <td>13065</td>\n",
       "    </tr>\n",
       "  </tbody>\n",
       "</table>\n",
       "</div>"
      ],
      "text/plain": [
       "          cut  color clarity\n",
       "count   53940  53940   53940\n",
       "unique      5      7       8\n",
       "top     Ideal      G     SI1\n",
       "freq    21551  11292   13065"
      ]
     },
     "execution_count": 6,
     "metadata": {},
     "output_type": "execute_result"
    }
   ],
   "source": [
    "diamonds.describe(exclude=np.number) #   The exclude parameter is set to np.number, which is a NumPy data type that includes all numeric data types."
   ]
  },
  {
   "cell_type": "code",
   "execution_count": 10,
   "metadata": {},
   "outputs": [],
   "source": [
    "from sklearn.model_selection import train_test_split\n",
    "X, y = diamonds.drop('price', axis=1),diamonds['price']"
   ]
  },
  {
   "cell_type": "code",
   "execution_count": 11,
   "metadata": {},
   "outputs": [],
   "source": [
    "catgoricals = X.select_dtypes(exclude=np.number).columns.tolist() # to select only catogorical features"
   ]
  },
  {
   "cell_type": "code",
   "execution_count": 12,
   "metadata": {},
   "outputs": [
    {
     "data": {
      "text/plain": [
       "['cut', 'color', 'clarity']"
      ]
     },
     "execution_count": 12,
     "metadata": {},
     "output_type": "execute_result"
    }
   ],
   "source": [
    "catgoricals"
   ]
  },
  {
   "cell_type": "code",
   "execution_count": 13,
   "metadata": {},
   "outputs": [],
   "source": [
    "for col in catgoricals:\n",
    "    X[col] = X[col].astype('category')"
   ]
  },
  {
   "cell_type": "code",
   "execution_count": 14,
   "metadata": {},
   "outputs": [
    {
     "name": "stdout",
     "output_type": "stream",
     "text": [
      "<class 'pandas.core.frame.DataFrame'>\n",
      "RangeIndex: 53940 entries, 0 to 53939\n",
      "Data columns (total 9 columns):\n",
      " #   Column   Non-Null Count  Dtype   \n",
      "---  ------   --------------  -----   \n",
      " 0   carat    53940 non-null  float64 \n",
      " 1   cut      53940 non-null  category\n",
      " 2   color    53940 non-null  category\n",
      " 3   clarity  53940 non-null  category\n",
      " 4   depth    53940 non-null  float64 \n",
      " 5   table    53940 non-null  float64 \n",
      " 6   x        53940 non-null  float64 \n",
      " 7   y        53940 non-null  float64 \n",
      " 8   z        53940 non-null  float64 \n",
      "dtypes: category(3), float64(6)\n",
      "memory usage: 2.6 MB\n"
     ]
    }
   ],
   "source": [
    "X.info()"
   ]
  },
  {
   "cell_type": "code",
   "execution_count": 15,
   "metadata": {},
   "outputs": [
    {
     "data": {
      "text/html": [
       "<div>\n",
       "<style scoped>\n",
       "    .dataframe tbody tr th:only-of-type {\n",
       "        vertical-align: middle;\n",
       "    }\n",
       "\n",
       "    .dataframe tbody tr th {\n",
       "        vertical-align: top;\n",
       "    }\n",
       "\n",
       "    .dataframe thead th {\n",
       "        text-align: right;\n",
       "    }\n",
       "</style>\n",
       "<table border=\"1\" class=\"dataframe\">\n",
       "  <thead>\n",
       "    <tr style=\"text-align: right;\">\n",
       "      <th></th>\n",
       "      <th>carat</th>\n",
       "      <th>cut</th>\n",
       "      <th>color</th>\n",
       "      <th>clarity</th>\n",
       "      <th>depth</th>\n",
       "      <th>table</th>\n",
       "      <th>x</th>\n",
       "      <th>y</th>\n",
       "      <th>z</th>\n",
       "    </tr>\n",
       "  </thead>\n",
       "  <tbody>\n",
       "    <tr>\n",
       "      <th>0</th>\n",
       "      <td>0.23</td>\n",
       "      <td>Ideal</td>\n",
       "      <td>E</td>\n",
       "      <td>SI2</td>\n",
       "      <td>61.5</td>\n",
       "      <td>55.0</td>\n",
       "      <td>3.95</td>\n",
       "      <td>3.98</td>\n",
       "      <td>2.43</td>\n",
       "    </tr>\n",
       "    <tr>\n",
       "      <th>1</th>\n",
       "      <td>0.21</td>\n",
       "      <td>Premium</td>\n",
       "      <td>E</td>\n",
       "      <td>SI1</td>\n",
       "      <td>59.8</td>\n",
       "      <td>61.0</td>\n",
       "      <td>3.89</td>\n",
       "      <td>3.84</td>\n",
       "      <td>2.31</td>\n",
       "    </tr>\n",
       "    <tr>\n",
       "      <th>2</th>\n",
       "      <td>0.23</td>\n",
       "      <td>Good</td>\n",
       "      <td>E</td>\n",
       "      <td>VS1</td>\n",
       "      <td>56.9</td>\n",
       "      <td>65.0</td>\n",
       "      <td>4.05</td>\n",
       "      <td>4.07</td>\n",
       "      <td>2.31</td>\n",
       "    </tr>\n",
       "    <tr>\n",
       "      <th>3</th>\n",
       "      <td>0.29</td>\n",
       "      <td>Premium</td>\n",
       "      <td>I</td>\n",
       "      <td>VS2</td>\n",
       "      <td>62.4</td>\n",
       "      <td>58.0</td>\n",
       "      <td>4.20</td>\n",
       "      <td>4.23</td>\n",
       "      <td>2.63</td>\n",
       "    </tr>\n",
       "    <tr>\n",
       "      <th>4</th>\n",
       "      <td>0.31</td>\n",
       "      <td>Good</td>\n",
       "      <td>J</td>\n",
       "      <td>SI2</td>\n",
       "      <td>63.3</td>\n",
       "      <td>58.0</td>\n",
       "      <td>4.34</td>\n",
       "      <td>4.35</td>\n",
       "      <td>2.75</td>\n",
       "    </tr>\n",
       "  </tbody>\n",
       "</table>\n",
       "</div>"
      ],
      "text/plain": [
       "   carat      cut color clarity  depth  table     x     y     z\n",
       "0   0.23    Ideal     E     SI2   61.5   55.0  3.95  3.98  2.43\n",
       "1   0.21  Premium     E     SI1   59.8   61.0  3.89  3.84  2.31\n",
       "2   0.23     Good     E     VS1   56.9   65.0  4.05  4.07  2.31\n",
       "3   0.29  Premium     I     VS2   62.4   58.0  4.20  4.23  2.63\n",
       "4   0.31     Good     J     SI2   63.3   58.0  4.34  4.35  2.75"
      ]
     },
     "execution_count": 15,
     "metadata": {},
     "output_type": "execute_result"
    }
   ],
   "source": [
    "X.head()"
   ]
  },
  {
   "cell_type": "markdown",
   "metadata": {},
   "source": [
    "pre processing done"
   ]
  },
  {
   "cell_type": "code",
   "execution_count": 17,
   "metadata": {},
   "outputs": [],
   "source": [
    "X_train, X_test, y_train, y_test = train_test_split(X, y, random_state=1)"
   ]
  },
  {
   "cell_type": "markdown",
   "metadata": {},
   "source": [
    "# implementaion of XG-boost"
   ]
  },
  {
   "cell_type": "code",
   "execution_count": 19,
   "metadata": {},
   "outputs": [],
   "source": [
    "import xgboost as xgb"
   ]
  },
  {
   "cell_type": "markdown",
   "metadata": {},
   "source": [
    "XGBoost comes with its own class for storing datasets called DMatrix. It is a highly optimized class for memory and speed. That's why converting datasets into this format is a requirement for the native XGBoost API:"
   ]
  },
  {
   "cell_type": "code",
   "execution_count": 20,
   "metadata": {},
   "outputs": [],
   "source": [
    "dtrain_reg = xgb.DMatrix(X_train, y_train, enable_categorical=True)\n",
    "dtest_reg = xgb.DMatrix(X_test, y_test, enable_categorical=True)"
   ]
  },
  {
   "cell_type": "markdown",
   "metadata": {},
   "source": [
    "metrics or XGB regressor"
   ]
  },
  {
   "cell_type": "code",
   "execution_count": 21,
   "metadata": {},
   "outputs": [
    {
     "data": {
      "text/plain": [
       "<xgboost.core.DMatrix at 0x7fded06af6a0>"
      ]
     },
     "execution_count": 21,
     "metadata": {},
     "output_type": "execute_result"
    }
   ],
   "source": [
    "parmas = {'objective':'reg:squarederror','tree_method':'gpu_hist'}"
   ]
  },
  {
   "cell_type": "markdown",
   "metadata": {},
   "source": [
    "Define hyperparameters"
   ]
  },
  {
   "cell_type": "code",
   "execution_count": 23,
   "metadata": {},
   "outputs": [],
   "source": [
    "params = {\"objective\": \"reg:squarederror\"}\n",
    "\n",
    "n = 100\n",
    "model = xgb.train(\n",
    "   params=params,\n",
    "   dtrain=dtrain_reg,\n",
    "   num_boost_round=n,\n",
    ")"
   ]
  },
  {
   "cell_type": "code",
   "execution_count": 26,
   "metadata": {},
   "outputs": [],
   "source": [
    "from sklearn.metrics import mean_squared_error\n",
    "y_ = model.predict(dtest_reg)"
   ]
  },
  {
   "cell_type": "code",
   "execution_count": 27,
   "metadata": {},
   "outputs": [
    {
     "name": "stdout",
     "output_type": "stream",
     "text": [
      "RMSE of the base model: 540.832\n"
     ]
    }
   ],
   "source": [
    "rmse = mean_squared_error(y_test, y_, squared=False)\n",
    "print(f\"RMSE of the base model: {rmse:.3f}\")"
   ]
  },
  {
   "cell_type": "markdown",
   "metadata": {},
   "source": [
    "Using Validation Sets During Training``"
   ]
  },
  {
   "cell_type": "code",
   "execution_count": 31,
   "metadata": {},
   "outputs": [],
   "source": [
    "params = {\"objective\": \"reg:squarederror\"}\n",
    "n = 100"
   ]
  },
  {
   "cell_type": "code",
   "execution_count": 32,
   "metadata": {},
   "outputs": [],
   "source": [
    "evals = [(dtrain_reg, \"train\"), (dtest_reg, \"validation\")]"
   ]
  },
  {
   "cell_type": "code",
   "execution_count": 33,
   "metadata": {},
   "outputs": [
    {
     "name": "stdout",
     "output_type": "stream",
     "text": [
      "[0]\ttrain-rmse:3984.50068\tvalidation-rmse:3929.07981\n",
      "[1]\ttrain-rmse:2850.61642\tvalidation-rmse:2812.97434\n",
      "[2]\ttrain-rmse:2060.84540\tvalidation-rmse:2034.46181\n",
      "[3]\ttrain-rmse:1519.72666\tvalidation-rmse:1506.01217\n",
      "[4]\ttrain-rmse:1153.60962\tvalidation-rmse:1150.62541\n",
      "[5]\ttrain-rmse:912.33015\tvalidation-rmse:922.12842\n",
      "[6]\ttrain-rmse:760.71090\tvalidation-rmse:781.87582\n",
      "[7]\ttrain-rmse:665.52297\tvalidation-rmse:695.70680\n",
      "[8]\ttrain-rmse:607.16767\tvalidation-rmse:642.37308\n",
      "[9]\ttrain-rmse:573.40953\tvalidation-rmse:611.72640\n",
      "[10]\ttrain-rmse:550.77930\tvalidation-rmse:592.85377\n",
      "[11]\ttrain-rmse:536.64605\tvalidation-rmse:581.95432\n",
      "[12]\ttrain-rmse:527.02758\tvalidation-rmse:574.78078\n",
      "[13]\ttrain-rmse:519.26213\tvalidation-rmse:570.16125\n",
      "[14]\ttrain-rmse:512.58027\tvalidation-rmse:566.23352\n",
      "[15]\ttrain-rmse:507.19981\tvalidation-rmse:564.35503\n",
      "[16]\ttrain-rmse:504.50246\tvalidation-rmse:562.75798\n",
      "[17]\ttrain-rmse:499.00337\tvalidation-rmse:558.59352\n",
      "[18]\ttrain-rmse:494.09887\tvalidation-rmse:558.93441\n",
      "[19]\ttrain-rmse:489.74687\tvalidation-rmse:557.79738\n",
      "[20]\ttrain-rmse:484.75582\tvalidation-rmse:555.33621\n",
      "[21]\ttrain-rmse:483.33263\tvalidation-rmse:554.77982\n",
      "[22]\ttrain-rmse:480.05578\tvalidation-rmse:553.42902\n",
      "[23]\ttrain-rmse:476.14726\tvalidation-rmse:551.84792\n",
      "[24]\ttrain-rmse:471.53460\tvalidation-rmse:552.09043\n",
      "[25]\ttrain-rmse:469.77072\tvalidation-rmse:551.42326\n",
      "[26]\ttrain-rmse:466.65319\tvalidation-rmse:550.95267\n",
      "[27]\ttrain-rmse:464.55574\tvalidation-rmse:550.81558\n",
      "[28]\ttrain-rmse:462.21779\tvalidation-rmse:550.17281\n",
      "[29]\ttrain-rmse:461.76115\tvalidation-rmse:549.81310\n",
      "[30]\ttrain-rmse:458.08430\tvalidation-rmse:548.65684\n",
      "[31]\ttrain-rmse:455.94968\tvalidation-rmse:548.44222\n",
      "[32]\ttrain-rmse:454.35378\tvalidation-rmse:547.94468\n",
      "[33]\ttrain-rmse:452.15505\tvalidation-rmse:548.29241\n",
      "[34]\ttrain-rmse:450.40702\tvalidation-rmse:547.90081\n",
      "[35]\ttrain-rmse:446.08533\tvalidation-rmse:548.47872\n",
      "[36]\ttrain-rmse:444.34205\tvalidation-rmse:549.32970\n",
      "[37]\ttrain-rmse:443.31863\tvalidation-rmse:549.26215\n",
      "[38]\ttrain-rmse:441.73841\tvalidation-rmse:547.34655\n",
      "[39]\ttrain-rmse:439.22222\tvalidation-rmse:546.66491\n",
      "[40]\ttrain-rmse:438.16096\tvalidation-rmse:546.63779\n",
      "[41]\ttrain-rmse:437.92744\tvalidation-rmse:546.48862\n",
      "[42]\ttrain-rmse:435.58388\tvalidation-rmse:545.83743\n",
      "[43]\ttrain-rmse:434.68897\tvalidation-rmse:545.57977\n",
      "[44]\ttrain-rmse:431.91971\tvalidation-rmse:545.80192\n",
      "[45]\ttrain-rmse:430.37424\tvalidation-rmse:545.65014\n",
      "[46]\ttrain-rmse:430.06164\tvalidation-rmse:545.52375\n",
      "[47]\ttrain-rmse:428.34397\tvalidation-rmse:545.96347\n",
      "[48]\ttrain-rmse:426.97094\tvalidation-rmse:545.87256\n",
      "[49]\ttrain-rmse:425.18483\tvalidation-rmse:544.43912\n",
      "[50]\ttrain-rmse:423.77961\tvalidation-rmse:543.98272\n",
      "[51]\ttrain-rmse:422.48771\tvalidation-rmse:543.33466\n",
      "[52]\ttrain-rmse:420.65417\tvalidation-rmse:542.93931\n",
      "[53]\ttrain-rmse:420.35236\tvalidation-rmse:542.98005\n",
      "[54]\ttrain-rmse:419.18007\tvalidation-rmse:542.45483\n",
      "[55]\ttrain-rmse:417.50029\tvalidation-rmse:542.21528\n",
      "[56]\ttrain-rmse:417.32755\tvalidation-rmse:542.11379\n",
      "[57]\ttrain-rmse:416.24485\tvalidation-rmse:542.09355\n",
      "[58]\ttrain-rmse:414.75422\tvalidation-rmse:540.80121\n",
      "[59]\ttrain-rmse:414.65339\tvalidation-rmse:540.84791\n",
      "[60]\ttrain-rmse:414.05562\tvalidation-rmse:540.26851\n",
      "[61]\ttrain-rmse:413.00839\tvalidation-rmse:540.21561\n",
      "[62]\ttrain-rmse:412.69431\tvalidation-rmse:540.18764\n",
      "[63]\ttrain-rmse:411.42389\tvalidation-rmse:540.29203\n",
      "[64]\ttrain-rmse:409.84545\tvalidation-rmse:540.15262\n",
      "[65]\ttrain-rmse:408.48674\tvalidation-rmse:539.94133\n",
      "[66]\ttrain-rmse:408.20558\tvalidation-rmse:539.77285\n",
      "[67]\ttrain-rmse:407.25636\tvalidation-rmse:539.53359\n",
      "[68]\ttrain-rmse:406.93439\tvalidation-rmse:539.50681\n",
      "[69]\ttrain-rmse:404.94995\tvalidation-rmse:538.85633\n",
      "[70]\ttrain-rmse:404.03463\tvalidation-rmse:539.03769\n",
      "[71]\ttrain-rmse:402.50919\tvalidation-rmse:538.91920\n",
      "[72]\ttrain-rmse:401.69912\tvalidation-rmse:538.71473\n",
      "[73]\ttrain-rmse:400.21860\tvalidation-rmse:537.91284\n",
      "[74]\ttrain-rmse:398.47123\tvalidation-rmse:537.69991\n",
      "[75]\ttrain-rmse:398.15362\tvalidation-rmse:537.94587\n",
      "[76]\ttrain-rmse:397.82014\tvalidation-rmse:538.21627\n",
      "[77]\ttrain-rmse:396.93102\tvalidation-rmse:537.71406\n",
      "[78]\ttrain-rmse:395.08993\tvalidation-rmse:537.47182\n",
      "[79]\ttrain-rmse:394.03083\tvalidation-rmse:537.94300\n",
      "[80]\ttrain-rmse:393.04459\tvalidation-rmse:537.93723\n",
      "[81]\ttrain-rmse:392.88089\tvalidation-rmse:537.90508\n",
      "[82]\ttrain-rmse:392.56903\tvalidation-rmse:537.81050\n",
      "[83]\ttrain-rmse:391.00172\tvalidation-rmse:538.00587\n",
      "[84]\ttrain-rmse:390.42867\tvalidation-rmse:538.54434\n",
      "[85]\ttrain-rmse:389.52857\tvalidation-rmse:538.41272\n",
      "[86]\ttrain-rmse:387.70669\tvalidation-rmse:538.49401\n",
      "[87]\ttrain-rmse:386.35666\tvalidation-rmse:538.76382\n",
      "[88]\ttrain-rmse:385.42354\tvalidation-rmse:538.56547\n",
      "[89]\ttrain-rmse:384.10097\tvalidation-rmse:539.13125\n",
      "[90]\ttrain-rmse:383.97591\tvalidation-rmse:539.05569\n",
      "[91]\ttrain-rmse:382.96164\tvalidation-rmse:538.90295\n",
      "[92]\ttrain-rmse:381.96261\tvalidation-rmse:538.98668\n",
      "[93]\ttrain-rmse:379.44655\tvalidation-rmse:539.99798\n",
      "[94]\ttrain-rmse:377.67838\tvalidation-rmse:540.08456\n",
      "[95]\ttrain-rmse:377.05844\tvalidation-rmse:539.88330\n",
      "[96]\ttrain-rmse:375.43688\tvalidation-rmse:540.75948\n",
      "[97]\ttrain-rmse:375.34359\tvalidation-rmse:540.85262\n",
      "[98]\ttrain-rmse:374.91671\tvalidation-rmse:540.78332\n",
      "[99]\ttrain-rmse:374.22742\tvalidation-rmse:540.83212\n"
     ]
    }
   ],
   "source": [
    "model = xgb.train(\n",
    "   params=params,\n",
    "   dtrain=dtrain_reg,\n",
    "   num_boost_round=n,\n",
    "   evals=evals,\n",
    ")"
   ]
  },
  {
   "cell_type": "code",
   "execution_count": 35,
   "metadata": {},
   "outputs": [
    {
     "name": "stdout",
     "output_type": "stream",
     "text": [
      "[0]\tvalidation-rmse:3929.07981\ttrain-rmse:3984.50068\n",
      "[10]\tvalidation-rmse:592.85377\ttrain-rmse:550.77930\n",
      "[20]\tvalidation-rmse:555.33621\ttrain-rmse:484.75582\n",
      "[30]\tvalidation-rmse:548.65684\ttrain-rmse:458.08430\n",
      "[40]\tvalidation-rmse:546.63779\ttrain-rmse:438.16096\n",
      "[50]\tvalidation-rmse:543.98272\ttrain-rmse:423.77961\n",
      "[60]\tvalidation-rmse:540.26851\ttrain-rmse:414.05562\n",
      "[70]\tvalidation-rmse:539.03769\ttrain-rmse:404.03463\n",
      "[80]\tvalidation-rmse:537.93723\ttrain-rmse:393.04459\n",
      "[90]\tvalidation-rmse:539.05569\ttrain-rmse:383.97591\n",
      "[99]\tvalidation-rmse:540.83212\ttrain-rmse:374.22742\n"
     ]
    }
   ],
   "source": [
    "params = {\"objective\": \"reg:squarederror\"}\n",
    "n = 100\n",
    "\n",
    "evals = [(dtest_reg, \"validation\"), (dtrain_reg, \"train\")]\n",
    "\n",
    "\n",
    "model = xgb.train(\n",
    "   params=params,\n",
    "   dtrain=dtrain_reg,\n",
    "   num_boost_round=n,\n",
    "   evals=evals,\n",
    "   verbose_eval=10 # Every ten rounds\n",
    ")"
   ]
  },
  {
   "cell_type": "markdown",
   "metadata": {},
   "source": [
    " we want the golden middle: a model that learned just enough patterns in training that it gives the highest performance on the validation set. So, how do we find the perfect number of boosting rounds, then?\n",
    "\n",
    "We will use a technique called early stopping. Early stopping forces XGBoost to watch the validation loss, and if it stops improving for a specified number of rounds, it automatically stops training."
   ]
  },
  {
   "cell_type": "code",
   "execution_count": 36,
   "metadata": {},
   "outputs": [
    {
     "name": "stdout",
     "output_type": "stream",
     "text": [
      "[0]\tvalidation-rmse:3929.07981\ttrain-rmse:3984.50068\n",
      "[50]\tvalidation-rmse:543.98272\ttrain-rmse:423.77961\n",
      "[100]\tvalidation-rmse:540.66831\ttrain-rmse:373.96485\n",
      "[150]\tvalidation-rmse:540.66297\ttrain-rmse:336.69608\n",
      "[200]\tvalidation-rmse:543.40721\ttrain-rmse:306.25530\n",
      "[250]\tvalidation-rmse:545.90975\ttrain-rmse:279.00376\n",
      "[300]\tvalidation-rmse:548.21773\ttrain-rmse:259.28233\n",
      "[350]\tvalidation-rmse:550.92468\ttrain-rmse:240.88885\n",
      "[400]\tvalidation-rmse:551.86915\ttrain-rmse:227.55254\n",
      "[450]\tvalidation-rmse:552.32583\ttrain-rmse:213.68006\n",
      "[500]\tvalidation-rmse:554.12879\ttrain-rmse:203.86446\n",
      "[550]\tvalidation-rmse:556.47223\ttrain-rmse:192.89124\n",
      "[600]\tvalidation-rmse:557.18001\ttrain-rmse:183.56955\n",
      "[650]\tvalidation-rmse:559.13438\ttrain-rmse:175.30987\n",
      "[700]\tvalidation-rmse:559.68006\ttrain-rmse:167.99105\n",
      "[750]\tvalidation-rmse:559.98013\ttrain-rmse:161.51663\n",
      "[800]\tvalidation-rmse:560.55509\ttrain-rmse:153.79907\n",
      "[850]\tvalidation-rmse:561.28200\ttrain-rmse:148.04959\n",
      "[900]\tvalidation-rmse:561.88432\ttrain-rmse:142.81325\n",
      "[950]\tvalidation-rmse:562.57742\ttrain-rmse:137.33007\n",
      "[1000]\tvalidation-rmse:563.15102\ttrain-rmse:131.94729\n",
      "[1050]\tvalidation-rmse:563.69242\ttrain-rmse:126.77663\n",
      "[1100]\tvalidation-rmse:564.04503\ttrain-rmse:123.01787\n",
      "[1150]\tvalidation-rmse:564.82922\ttrain-rmse:119.53559\n",
      "[1200]\tvalidation-rmse:564.94279\ttrain-rmse:115.95513\n",
      "[1250]\tvalidation-rmse:566.00510\ttrain-rmse:112.92150\n",
      "[1300]\tvalidation-rmse:566.03664\ttrain-rmse:109.00432\n",
      "[1350]\tvalidation-rmse:566.29196\ttrain-rmse:105.05488\n",
      "[1400]\tvalidation-rmse:566.46154\ttrain-rmse:101.92808\n",
      "[1450]\tvalidation-rmse:566.80225\ttrain-rmse:98.41808\n",
      "[1500]\tvalidation-rmse:566.90185\ttrain-rmse:95.43730\n",
      "[1550]\tvalidation-rmse:567.06626\ttrain-rmse:92.66781\n",
      "[1600]\tvalidation-rmse:567.41272\ttrain-rmse:90.25834\n",
      "[1650]\tvalidation-rmse:567.73629\ttrain-rmse:87.30793\n",
      "[1700]\tvalidation-rmse:567.91027\ttrain-rmse:84.90377\n",
      "[1750]\tvalidation-rmse:568.18052\ttrain-rmse:83.00155\n",
      "[1800]\tvalidation-rmse:568.53026\ttrain-rmse:80.87955\n",
      "[1850]\tvalidation-rmse:568.74432\ttrain-rmse:78.79834\n",
      "[1900]\tvalidation-rmse:568.70783\ttrain-rmse:76.65440\n",
      "[1950]\tvalidation-rmse:568.92468\ttrain-rmse:74.84974\n",
      "[2000]\tvalidation-rmse:569.04113\ttrain-rmse:72.82352\n",
      "[2050]\tvalidation-rmse:569.20388\ttrain-rmse:70.75644\n",
      "[2100]\tvalidation-rmse:569.33180\ttrain-rmse:69.18637\n",
      "[2150]\tvalidation-rmse:569.26853\ttrain-rmse:67.35691\n",
      "[2200]\tvalidation-rmse:569.36921\ttrain-rmse:65.80711\n",
      "[2250]\tvalidation-rmse:569.55443\ttrain-rmse:64.32107\n",
      "[2300]\tvalidation-rmse:569.67484\ttrain-rmse:63.16050\n",
      "[2350]\tvalidation-rmse:569.95367\ttrain-rmse:62.02495\n",
      "[2400]\tvalidation-rmse:570.17692\ttrain-rmse:60.55103\n",
      "[2450]\tvalidation-rmse:570.24827\ttrain-rmse:59.40556\n",
      "[2500]\tvalidation-rmse:570.27841\ttrain-rmse:58.20791\n",
      "[2550]\tvalidation-rmse:570.50707\ttrain-rmse:57.04412\n",
      "[2600]\tvalidation-rmse:570.78207\ttrain-rmse:55.89048\n",
      "[2650]\tvalidation-rmse:571.00965\ttrain-rmse:54.66281\n",
      "[2700]\tvalidation-rmse:571.12612\ttrain-rmse:53.66059\n",
      "[2750]\tvalidation-rmse:571.19422\ttrain-rmse:52.57427\n",
      "[2800]\tvalidation-rmse:571.20508\ttrain-rmse:51.63701\n",
      "[2850]\tvalidation-rmse:571.34174\ttrain-rmse:50.55919\n",
      "[2900]\tvalidation-rmse:571.32890\ttrain-rmse:49.87841\n",
      "[2950]\tvalidation-rmse:571.52906\ttrain-rmse:48.69177\n",
      "[3000]\tvalidation-rmse:571.55838\ttrain-rmse:47.64341\n",
      "[3050]\tvalidation-rmse:571.54917\ttrain-rmse:46.94657\n",
      "[3100]\tvalidation-rmse:571.60491\ttrain-rmse:45.98098\n",
      "[3150]\tvalidation-rmse:571.69362\ttrain-rmse:45.00379\n",
      "[3200]\tvalidation-rmse:571.87217\ttrain-rmse:44.12281\n",
      "[3250]\tvalidation-rmse:571.99148\ttrain-rmse:43.33817\n",
      "[3300]\tvalidation-rmse:572.05070\ttrain-rmse:42.70728\n",
      "[3350]\tvalidation-rmse:572.13814\ttrain-rmse:41.88007\n",
      "[3400]\tvalidation-rmse:572.28358\ttrain-rmse:41.09165\n",
      "[3450]\tvalidation-rmse:572.35825\ttrain-rmse:40.50488\n",
      "[3500]\tvalidation-rmse:572.40852\ttrain-rmse:39.71297\n",
      "[3550]\tvalidation-rmse:572.51539\ttrain-rmse:39.02883\n",
      "[3600]\tvalidation-rmse:572.55529\ttrain-rmse:38.31738\n",
      "[3650]\tvalidation-rmse:572.57409\ttrain-rmse:37.75875\n",
      "[3700]\tvalidation-rmse:572.68960\ttrain-rmse:37.07670\n",
      "[3750]\tvalidation-rmse:572.69288\ttrain-rmse:36.48339\n",
      "[3800]\tvalidation-rmse:572.71635\ttrain-rmse:35.78062\n",
      "[3850]\tvalidation-rmse:572.72323\ttrain-rmse:35.27484\n",
      "[3900]\tvalidation-rmse:572.71642\ttrain-rmse:34.71896\n",
      "[3950]\tvalidation-rmse:572.76516\ttrain-rmse:34.07675\n",
      "[4000]\tvalidation-rmse:572.82147\ttrain-rmse:33.43069\n",
      "[4050]\tvalidation-rmse:572.90837\ttrain-rmse:32.83299\n",
      "[4100]\tvalidation-rmse:572.91457\ttrain-rmse:32.37964\n",
      "[4150]\tvalidation-rmse:572.96207\ttrain-rmse:31.84791\n",
      "[4200]\tvalidation-rmse:573.01303\ttrain-rmse:31.39935\n",
      "[4250]\tvalidation-rmse:573.08571\ttrain-rmse:30.84704\n",
      "[4300]\tvalidation-rmse:573.14043\ttrain-rmse:30.20728\n",
      "[4350]\tvalidation-rmse:573.27403\ttrain-rmse:29.73301\n",
      "[4400]\tvalidation-rmse:573.23947\ttrain-rmse:29.16300\n",
      "[4450]\tvalidation-rmse:573.23773\ttrain-rmse:28.70027\n",
      "[4500]\tvalidation-rmse:573.27693\ttrain-rmse:28.27396\n",
      "[4550]\tvalidation-rmse:573.27376\ttrain-rmse:27.80026\n",
      "[4600]\tvalidation-rmse:573.30915\ttrain-rmse:27.38553\n",
      "[4650]\tvalidation-rmse:573.28645\ttrain-rmse:26.99656\n",
      "[4700]\tvalidation-rmse:573.34624\ttrain-rmse:26.61783\n",
      "[4750]\tvalidation-rmse:573.38499\ttrain-rmse:26.25911\n",
      "[4800]\tvalidation-rmse:573.44975\ttrain-rmse:25.82009\n",
      "[4850]\tvalidation-rmse:573.47773\ttrain-rmse:25.42051\n",
      "[4900]\tvalidation-rmse:573.49186\ttrain-rmse:25.01050\n",
      "[4950]\tvalidation-rmse:573.52709\ttrain-rmse:24.67078\n",
      "[5000]\tvalidation-rmse:573.51742\ttrain-rmse:24.29557\n",
      "[5050]\tvalidation-rmse:573.55222\ttrain-rmse:23.98694\n",
      "[5100]\tvalidation-rmse:573.57698\ttrain-rmse:23.64059\n",
      "[5150]\tvalidation-rmse:573.62426\ttrain-rmse:23.31144\n",
      "[5200]\tvalidation-rmse:573.65438\ttrain-rmse:22.99436\n",
      "[5250]\tvalidation-rmse:573.69017\ttrain-rmse:22.72127\n",
      "[5300]\tvalidation-rmse:573.72928\ttrain-rmse:22.45120\n",
      "[5350]\tvalidation-rmse:573.74068\ttrain-rmse:22.09656\n",
      "[5400]\tvalidation-rmse:573.77206\ttrain-rmse:21.77430\n",
      "[5450]\tvalidation-rmse:573.80083\ttrain-rmse:21.46354\n",
      "[5500]\tvalidation-rmse:573.83289\ttrain-rmse:21.16673\n",
      "[5550]\tvalidation-rmse:573.87437\ttrain-rmse:20.89866\n",
      "[5600]\tvalidation-rmse:573.90160\ttrain-rmse:20.66621\n",
      "[5650]\tvalidation-rmse:573.92083\ttrain-rmse:20.40278\n",
      "[5700]\tvalidation-rmse:573.93409\ttrain-rmse:20.17433\n",
      "[5750]\tvalidation-rmse:573.94014\ttrain-rmse:19.93604\n",
      "[5800]\tvalidation-rmse:573.96343\ttrain-rmse:19.76369\n",
      "[5850]\tvalidation-rmse:573.96785\ttrain-rmse:19.55033\n",
      "[5900]\tvalidation-rmse:573.95752\ttrain-rmse:19.34897\n",
      "[5950]\tvalidation-rmse:573.95751\ttrain-rmse:19.18656\n",
      "[6000]\tvalidation-rmse:573.96289\ttrain-rmse:18.98789\n",
      "[6050]\tvalidation-rmse:574.01781\ttrain-rmse:18.76974\n",
      "[6100]\tvalidation-rmse:574.06277\ttrain-rmse:18.52568\n",
      "[6150]\tvalidation-rmse:574.14601\ttrain-rmse:18.31003\n",
      "[6200]\tvalidation-rmse:574.14679\ttrain-rmse:18.07888\n",
      "[6250]\tvalidation-rmse:574.16151\ttrain-rmse:17.88567\n",
      "[6300]\tvalidation-rmse:574.18263\ttrain-rmse:17.67291\n",
      "[6350]\tvalidation-rmse:574.15432\ttrain-rmse:17.42595\n",
      "[6400]\tvalidation-rmse:574.19099\ttrain-rmse:17.26337\n",
      "[6450]\tvalidation-rmse:574.19709\ttrain-rmse:17.11231\n",
      "[6500]\tvalidation-rmse:574.20272\ttrain-rmse:16.90984\n",
      "[6550]\tvalidation-rmse:574.24600\ttrain-rmse:16.69977\n",
      "[6600]\tvalidation-rmse:574.25552\ttrain-rmse:16.50269\n",
      "[6650]\tvalidation-rmse:574.26176\ttrain-rmse:16.38292\n",
      "[6700]\tvalidation-rmse:574.29418\ttrain-rmse:16.22129\n",
      "[6750]\tvalidation-rmse:574.33120\ttrain-rmse:16.08743\n",
      "[6800]\tvalidation-rmse:574.29828\ttrain-rmse:15.91450\n",
      "[6850]\tvalidation-rmse:574.29593\ttrain-rmse:15.77321\n",
      "[6900]\tvalidation-rmse:574.29799\ttrain-rmse:15.61964\n",
      "[6950]\tvalidation-rmse:574.29964\ttrain-rmse:15.45075\n",
      "[7000]\tvalidation-rmse:574.31608\ttrain-rmse:15.27667\n",
      "[7050]\tvalidation-rmse:574.33068\ttrain-rmse:15.12935\n",
      "[7100]\tvalidation-rmse:574.34058\ttrain-rmse:14.99313\n",
      "[7150]\tvalidation-rmse:574.34261\ttrain-rmse:14.87937\n",
      "[7200]\tvalidation-rmse:574.35729\ttrain-rmse:14.74211\n",
      "[7250]\tvalidation-rmse:574.35989\ttrain-rmse:14.59999\n",
      "[7300]\tvalidation-rmse:574.36186\ttrain-rmse:14.48306\n",
      "[7350]\tvalidation-rmse:574.38182\ttrain-rmse:14.37789\n",
      "[7400]\tvalidation-rmse:574.40193\ttrain-rmse:14.27614\n",
      "[7450]\tvalidation-rmse:574.40171\ttrain-rmse:14.14956\n",
      "[7500]\tvalidation-rmse:574.39843\ttrain-rmse:14.04928\n",
      "[7550]\tvalidation-rmse:574.41596\ttrain-rmse:13.95286\n",
      "[7600]\tvalidation-rmse:574.40928\ttrain-rmse:13.84325\n",
      "[7650]\tvalidation-rmse:574.40526\ttrain-rmse:13.75465\n",
      "[7700]\tvalidation-rmse:574.41102\ttrain-rmse:13.66052\n",
      "[7750]\tvalidation-rmse:574.42933\ttrain-rmse:13.53834\n",
      "[7800]\tvalidation-rmse:574.43881\ttrain-rmse:13.43811\n",
      "[7850]\tvalidation-rmse:574.44796\ttrain-rmse:13.35545\n",
      "[7900]\tvalidation-rmse:574.47225\ttrain-rmse:13.22493\n",
      "[7950]\tvalidation-rmse:574.46656\ttrain-rmse:13.14882\n",
      "[8000]\tvalidation-rmse:574.46982\ttrain-rmse:13.05051\n",
      "[8050]\tvalidation-rmse:574.48795\ttrain-rmse:12.94714\n",
      "[8100]\tvalidation-rmse:574.51270\ttrain-rmse:12.87262\n",
      "[8150]\tvalidation-rmse:574.53675\ttrain-rmse:12.78686\n",
      "[8200]\tvalidation-rmse:574.55274\ttrain-rmse:12.70795\n",
      "[8250]\tvalidation-rmse:574.56554\ttrain-rmse:12.62440\n",
      "[8300]\tvalidation-rmse:574.55922\ttrain-rmse:12.54480\n",
      "[8350]\tvalidation-rmse:574.56995\ttrain-rmse:12.46786\n",
      "[8400]\tvalidation-rmse:574.54325\ttrain-rmse:12.38032\n",
      "[8450]\tvalidation-rmse:574.54110\ttrain-rmse:12.32295\n",
      "[8500]\tvalidation-rmse:574.54585\ttrain-rmse:12.26614\n",
      "[8550]\tvalidation-rmse:574.54374\ttrain-rmse:12.18169\n",
      "[8600]\tvalidation-rmse:574.55610\ttrain-rmse:12.09717\n",
      "[8650]\tvalidation-rmse:574.58181\ttrain-rmse:12.03375\n",
      "[8700]\tvalidation-rmse:574.58442\ttrain-rmse:11.96527\n",
      "[8750]\tvalidation-rmse:574.58746\ttrain-rmse:11.89158\n",
      "[8800]\tvalidation-rmse:574.58767\ttrain-rmse:11.82607\n",
      "[8850]\tvalidation-rmse:574.60489\ttrain-rmse:11.74667\n",
      "[8900]\tvalidation-rmse:574.61510\ttrain-rmse:11.68834\n",
      "[8950]\tvalidation-rmse:574.62669\ttrain-rmse:11.62439\n",
      "[9000]\tvalidation-rmse:574.63801\ttrain-rmse:11.56477\n",
      "[9050]\tvalidation-rmse:574.64873\ttrain-rmse:11.48972\n",
      "[9100]\tvalidation-rmse:574.66017\ttrain-rmse:11.44040\n",
      "[9150]\tvalidation-rmse:574.66492\ttrain-rmse:11.38075\n",
      "[9200]\tvalidation-rmse:574.68237\ttrain-rmse:11.32790\n",
      "[9250]\tvalidation-rmse:574.68455\ttrain-rmse:11.26878\n",
      "[9300]\tvalidation-rmse:574.69267\ttrain-rmse:11.20390\n",
      "[9350]\tvalidation-rmse:574.69664\ttrain-rmse:11.15072\n",
      "[9400]\tvalidation-rmse:574.70673\ttrain-rmse:11.09533\n",
      "[9450]\tvalidation-rmse:574.70241\ttrain-rmse:11.04799\n",
      "[9500]\tvalidation-rmse:574.71437\ttrain-rmse:10.99255\n",
      "[9550]\tvalidation-rmse:574.71803\ttrain-rmse:10.94746\n",
      "[9600]\tvalidation-rmse:574.72112\ttrain-rmse:10.89426\n",
      "[9650]\tvalidation-rmse:574.72479\ttrain-rmse:10.85634\n",
      "[9700]\tvalidation-rmse:574.73212\ttrain-rmse:10.81476\n",
      "[9750]\tvalidation-rmse:574.73487\ttrain-rmse:10.77266\n",
      "[9800]\tvalidation-rmse:574.73239\ttrain-rmse:10.73180\n",
      "[9850]\tvalidation-rmse:574.73041\ttrain-rmse:10.69921\n",
      "[9900]\tvalidation-rmse:574.72722\ttrain-rmse:10.67613\n",
      "[9950]\tvalidation-rmse:574.73057\ttrain-rmse:10.63226\n",
      "[9999]\tvalidation-rmse:574.73778\ttrain-rmse:10.58636\n"
     ]
    }
   ],
   "source": [
    "n = 10000\n",
    "\n",
    "\n",
    "model = xgb.train(\n",
    "   params=params,\n",
    "   dtrain=dtrain_reg,\n",
    "   num_boost_round=n,\n",
    "   evals=evals,\n",
    "   verbose_eval=50,\n",
    "   # Activate early stopping\n",
    "   early_stopping_rounds=50\n",
    ")"
   ]
  },
  {
   "cell_type": "markdown",
   "metadata": {},
   "source": [
    "XGB with k-fold"
   ]
  },
  {
   "cell_type": "code",
   "execution_count": 42,
   "metadata": {},
   "outputs": [],
   "source": [
    "params = {\"objective\": \"reg:squarederror\"}\n",
    "n = 1000\n",
    "\n",
    "results = xgb.cv(\n",
    "   params, dtrain_reg,\n",
    "   num_boost_round=n,\n",
    "   nfold=5,\n",
    "   early_stopping_rounds=20\n",
    ")"
   ]
  },
  {
   "cell_type": "code",
   "execution_count": 46,
   "metadata": {},
   "outputs": [
    {
     "data": {
      "text/html": [
       "<div>\n",
       "<style scoped>\n",
       "    .dataframe tbody tr th:only-of-type {\n",
       "        vertical-align: middle;\n",
       "    }\n",
       "\n",
       "    .dataframe tbody tr th {\n",
       "        vertical-align: top;\n",
       "    }\n",
       "\n",
       "    .dataframe thead th {\n",
       "        text-align: right;\n",
       "    }\n",
       "</style>\n",
       "<table border=\"1\" class=\"dataframe\">\n",
       "  <thead>\n",
       "    <tr style=\"text-align: right;\">\n",
       "      <th></th>\n",
       "      <th>train-rmse-mean</th>\n",
       "      <th>train-rmse-std</th>\n",
       "      <th>test-rmse-mean</th>\n",
       "      <th>test-rmse-std</th>\n",
       "    </tr>\n",
       "  </thead>\n",
       "  <tbody>\n",
       "    <tr>\n",
       "      <th>46</th>\n",
       "      <td>421.111344</td>\n",
       "      <td>3.627819</td>\n",
       "      <td>546.891204</td>\n",
       "      <td>11.725214</td>\n",
       "    </tr>\n",
       "    <tr>\n",
       "      <th>47</th>\n",
       "      <td>419.590015</td>\n",
       "      <td>3.126803</td>\n",
       "      <td>546.721222</td>\n",
       "      <td>11.779580</td>\n",
       "    </tr>\n",
       "    <tr>\n",
       "      <th>48</th>\n",
       "      <td>418.248418</td>\n",
       "      <td>3.271723</td>\n",
       "      <td>546.476959</td>\n",
       "      <td>12.047754</td>\n",
       "    </tr>\n",
       "    <tr>\n",
       "      <th>49</th>\n",
       "      <td>416.658317</td>\n",
       "      <td>3.112561</td>\n",
       "      <td>546.376986</td>\n",
       "      <td>11.866229</td>\n",
       "    </tr>\n",
       "    <tr>\n",
       "      <th>50</th>\n",
       "      <td>415.649020</td>\n",
       "      <td>2.688678</td>\n",
       "      <td>546.365658</td>\n",
       "      <td>11.858490</td>\n",
       "    </tr>\n",
       "  </tbody>\n",
       "</table>\n",
       "</div>"
      ],
      "text/plain": [
       "    train-rmse-mean  train-rmse-std  test-rmse-mean  test-rmse-std\n",
       "46       421.111344        3.627819      546.891204      11.725214\n",
       "47       419.590015        3.126803      546.721222      11.779580\n",
       "48       418.248418        3.271723      546.476959      12.047754\n",
       "49       416.658317        3.112561      546.376986      11.866229\n",
       "50       415.649020        2.688678      546.365658      11.858490"
      ]
     },
     "execution_count": 46,
     "metadata": {},
     "output_type": "execute_result"
    }
   ],
   "source": [
    "results.tail()"
   ]
  },
  {
   "cell_type": "code",
   "execution_count": 44,
   "metadata": {},
   "outputs": [
    {
     "data": {
      "text/plain": [
       "(51, 4)"
      ]
     },
     "execution_count": 44,
     "metadata": {},
     "output_type": "execute_result"
    }
   ],
   "source": [
    "results.shape"
   ]
  },
  {
   "cell_type": "code",
   "execution_count": 45,
   "metadata": {},
   "outputs": [
    {
     "data": {
      "text/plain": [
       "546.3656581617249"
      ]
     },
     "execution_count": 45,
     "metadata": {},
     "output_type": "execute_result"
    }
   ],
   "source": [
    "best_rmse = results['test-rmse-mean'].min()\n",
    "\n",
    "best_rmse"
   ]
  },
  {
   "cell_type": "markdown",
   "metadata": {},
   "source": [
    "# Multiclass classification using XGB"
   ]
  },
  {
   "cell_type": "code",
   "execution_count": 47,
   "metadata": {},
   "outputs": [],
   "source": [
    "from sklearn.preprocessing import OrdinalEncoder\n",
    "X, y = diamonds.drop(\"cut\", axis=1), diamonds[['cut']]\n",
    "y_encoded = OrdinalEncoder().fit_transform(y)\n",
    "cats = X.select_dtypes(exclude=np.number).columns.tolist()\n",
    "for col in cats:\n",
    "   X[col] = X[col].astype('category')\n",
    "X_train, X_test, y_train, y_test = train_test_split(X, y_encoded, random_state=1, stratify=y_encoded)"
   ]
  },
  {
   "cell_type": "code",
   "execution_count": 49,
   "metadata": {},
   "outputs": [],
   "source": [
    "# Create classification matrices\n",
    "dtrain_clf = xgb.DMatrix(X_train, y_train, enable_categorical=True)\n",
    "dtest_clf = xgb.DMatrix(X_test, y_test, enable_categorical=True)"
   ]
  },
  {
   "cell_type": "code",
   "execution_count": 50,
   "metadata": {},
   "outputs": [],
   "source": [
    "params = {\"objective\": \"multi:softprob\", \"num_class\": 5}\n",
    "n = 1000\n",
    "\n",
    "results = xgb.cv(\n",
    "   params, dtrain_clf,\n",
    "   num_boost_round=n,\n",
    "   nfold=5,\n",
    "   metrics=[\"mlogloss\", \"auc\", \"merror\"],\n",
    ")"
   ]
  },
  {
   "cell_type": "markdown",
   "metadata": {},
   "source": [
    "metrics is a list of evaluation metrics to use during cross-validation, which includes multi-class log loss, area under the ROC curve, and multi-class classification error."
   ]
  },
  {
   "cell_type": "code",
   "execution_count": 55,
   "metadata": {},
   "outputs": [
    {
     "data": {
      "text/html": [
       "<div>\n",
       "<style scoped>\n",
       "    .dataframe tbody tr th:only-of-type {\n",
       "        vertical-align: middle;\n",
       "    }\n",
       "\n",
       "    .dataframe tbody tr th {\n",
       "        vertical-align: top;\n",
       "    }\n",
       "\n",
       "    .dataframe thead th {\n",
       "        text-align: right;\n",
       "    }\n",
       "</style>\n",
       "<table border=\"1\" class=\"dataframe\">\n",
       "  <thead>\n",
       "    <tr style=\"text-align: right;\">\n",
       "      <th></th>\n",
       "      <th>train-mlogloss-mean</th>\n",
       "      <th>train-mlogloss-std</th>\n",
       "      <th>train-auc-mean</th>\n",
       "      <th>train-auc-std</th>\n",
       "      <th>train-merror-mean</th>\n",
       "      <th>train-merror-std</th>\n",
       "      <th>test-mlogloss-mean</th>\n",
       "      <th>test-mlogloss-std</th>\n",
       "      <th>test-auc-mean</th>\n",
       "      <th>test-auc-std</th>\n",
       "      <th>test-merror-mean</th>\n",
       "      <th>test-merror-std</th>\n",
       "    </tr>\n",
       "  </thead>\n",
       "  <tbody>\n",
       "    <tr>\n",
       "      <th>995</th>\n",
       "      <td>0.043182</td>\n",
       "      <td>0.000774</td>\n",
       "      <td>1.0</td>\n",
       "      <td>1.763487e-07</td>\n",
       "      <td>0.000698</td>\n",
       "      <td>0.000135</td>\n",
       "      <td>0.638998</td>\n",
       "      <td>0.011602</td>\n",
       "      <td>0.938388</td>\n",
       "      <td>0.001210</td>\n",
       "      <td>0.204252</td>\n",
       "      <td>0.002076</td>\n",
       "    </tr>\n",
       "    <tr>\n",
       "      <th>996</th>\n",
       "      <td>0.043093</td>\n",
       "      <td>0.000763</td>\n",
       "      <td>1.0</td>\n",
       "      <td>1.812635e-07</td>\n",
       "      <td>0.000692</td>\n",
       "      <td>0.000125</td>\n",
       "      <td>0.639130</td>\n",
       "      <td>0.011596</td>\n",
       "      <td>0.938392</td>\n",
       "      <td>0.001208</td>\n",
       "      <td>0.204276</td>\n",
       "      <td>0.002004</td>\n",
       "    </tr>\n",
       "    <tr>\n",
       "      <th>997</th>\n",
       "      <td>0.043024</td>\n",
       "      <td>0.000772</td>\n",
       "      <td>1.0</td>\n",
       "      <td>1.711890e-07</td>\n",
       "      <td>0.000692</td>\n",
       "      <td>0.000125</td>\n",
       "      <td>0.639229</td>\n",
       "      <td>0.011575</td>\n",
       "      <td>0.938391</td>\n",
       "      <td>0.001204</td>\n",
       "      <td>0.204326</td>\n",
       "      <td>0.002003</td>\n",
       "    </tr>\n",
       "    <tr>\n",
       "      <th>998</th>\n",
       "      <td>0.042923</td>\n",
       "      <td>0.000782</td>\n",
       "      <td>1.0</td>\n",
       "      <td>1.649064e-07</td>\n",
       "      <td>0.000680</td>\n",
       "      <td>0.000111</td>\n",
       "      <td>0.639458</td>\n",
       "      <td>0.011640</td>\n",
       "      <td>0.938383</td>\n",
       "      <td>0.001202</td>\n",
       "      <td>0.204326</td>\n",
       "      <td>0.002030</td>\n",
       "    </tr>\n",
       "    <tr>\n",
       "      <th>999</th>\n",
       "      <td>0.042844</td>\n",
       "      <td>0.000788</td>\n",
       "      <td>1.0</td>\n",
       "      <td>1.668865e-07</td>\n",
       "      <td>0.000686</td>\n",
       "      <td>0.000121</td>\n",
       "      <td>0.639605</td>\n",
       "      <td>0.011601</td>\n",
       "      <td>0.938389</td>\n",
       "      <td>0.001201</td>\n",
       "      <td>0.204326</td>\n",
       "      <td>0.002063</td>\n",
       "    </tr>\n",
       "  </tbody>\n",
       "</table>\n",
       "</div>"
      ],
      "text/plain": [
       "     train-mlogloss-mean  train-mlogloss-std  train-auc-mean  train-auc-std  \\\n",
       "995             0.043182            0.000774             1.0   1.763487e-07   \n",
       "996             0.043093            0.000763             1.0   1.812635e-07   \n",
       "997             0.043024            0.000772             1.0   1.711890e-07   \n",
       "998             0.042923            0.000782             1.0   1.649064e-07   \n",
       "999             0.042844            0.000788             1.0   1.668865e-07   \n",
       "\n",
       "     train-merror-mean  train-merror-std  test-mlogloss-mean  \\\n",
       "995           0.000698          0.000135            0.638998   \n",
       "996           0.000692          0.000125            0.639130   \n",
       "997           0.000692          0.000125            0.639229   \n",
       "998           0.000680          0.000111            0.639458   \n",
       "999           0.000686          0.000121            0.639605   \n",
       "\n",
       "     test-mlogloss-std  test-auc-mean  test-auc-std  test-merror-mean  \\\n",
       "995           0.011602       0.938388      0.001210          0.204252   \n",
       "996           0.011596       0.938392      0.001208          0.204276   \n",
       "997           0.011575       0.938391      0.001204          0.204326   \n",
       "998           0.011640       0.938383      0.001202          0.204326   \n",
       "999           0.011601       0.938389      0.001201          0.204326   \n",
       "\n",
       "     test-merror-std  \n",
       "995         0.002076  \n",
       "996         0.002004  \n",
       "997         0.002003  \n",
       "998         0.002030  \n",
       "999         0.002063  "
      ]
     },
     "execution_count": 55,
     "metadata": {},
     "output_type": "execute_result"
    }
   ],
   "source": [
    "results.tail()"
   ]
  },
  {
   "cell_type": "code",
   "execution_count": 52,
   "metadata": {},
   "outputs": [
    {
     "data": {
      "text/plain": [
       "Index(['train-mlogloss-mean', 'train-mlogloss-std', 'train-auc-mean',\n",
       "       'train-auc-std', 'train-merror-mean', 'train-merror-std',\n",
       "       'test-mlogloss-mean', 'test-mlogloss-std', 'test-auc-mean',\n",
       "       'test-auc-std', 'test-merror-mean', 'test-merror-std'],\n",
       "      dtype='object')"
      ]
     },
     "execution_count": 52,
     "metadata": {},
     "output_type": "execute_result"
    }
   ],
   "source": [
    "results.keys()"
   ]
  },
  {
   "cell_type": "code",
   "execution_count": 53,
   "metadata": {},
   "outputs": [
    {
     "data": {
      "text/plain": [
       "0.9419346263225833"
      ]
     },
     "execution_count": 53,
     "metadata": {},
     "output_type": "execute_result"
    }
   ],
   "source": [
    "results['test-auc-mean'].max()"
   ]
  }
 ],
 "metadata": {
  "kernelspec": {
   "display_name": "Python 3",
   "language": "python",
   "name": "python3"
  },
  "language_info": {
   "codemirror_mode": {
    "name": "ipython",
    "version": 3
   },
   "file_extension": ".py",
   "mimetype": "text/x-python",
   "name": "python",
   "nbconvert_exporter": "python",
   "pygments_lexer": "ipython3",
   "version": "3.10.12"
  },
  "orig_nbformat": 4
 },
 "nbformat": 4,
 "nbformat_minor": 2
}
