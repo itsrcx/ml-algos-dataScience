{
 "cells": [
  {
   "cell_type": "code",
   "execution_count": 87,
   "metadata": {},
   "outputs": [],
   "source": [
    "import pandas as pd\n",
    "import numpy as np\n",
    "from sklearn.linear_model import  LinearRegression\n",
    "from sklearn.metrics import confusion_matrix , mean_squared_error, r2_score, accuracy_score\n",
    "from sklearn.preprocessing import PolynomialFeatures\n",
    "from sklearn.pipeline import make_pipeline"
   ]
  },
  {
   "cell_type": "code",
   "execution_count": 71,
   "metadata": {},
   "outputs": [
    {
     "data": {
      "text/html": [
       "<div>\n",
       "<style scoped>\n",
       "    .dataframe tbody tr th:only-of-type {\n",
       "        vertical-align: middle;\n",
       "    }\n",
       "\n",
       "    .dataframe tbody tr th {\n",
       "        vertical-align: top;\n",
       "    }\n",
       "\n",
       "    .dataframe thead th {\n",
       "        text-align: right;\n",
       "    }\n",
       "</style>\n",
       "<table border=\"1\" class=\"dataframe\">\n",
       "  <thead>\n",
       "    <tr style=\"text-align: right;\">\n",
       "      <th></th>\n",
       "      <th>Item_Weight</th>\n",
       "      <th>Item_Visibility</th>\n",
       "      <th>Item_MRP</th>\n",
       "      <th>Outlet_Establishment_Year</th>\n",
       "      <th>Item_Outlet_Sales</th>\n",
       "      <th>Item_Fat_Content_LF</th>\n",
       "      <th>Item_Fat_Content_Low Fat</th>\n",
       "      <th>Item_Fat_Content_Regular</th>\n",
       "      <th>Item_Fat_Content_low fat</th>\n",
       "      <th>Item_Fat_Content_reg</th>\n",
       "      <th>...</th>\n",
       "      <th>Outlet_Size_High</th>\n",
       "      <th>Outlet_Size_Medium</th>\n",
       "      <th>Outlet_Size_Small</th>\n",
       "      <th>Outlet_Location_Type_Tier 1</th>\n",
       "      <th>Outlet_Location_Type_Tier 2</th>\n",
       "      <th>Outlet_Location_Type_Tier 3</th>\n",
       "      <th>Outlet_Type_Grocery Store</th>\n",
       "      <th>Outlet_Type_Supermarket Type1</th>\n",
       "      <th>Outlet_Type_Supermarket Type2</th>\n",
       "      <th>Outlet_Type_Supermarket Type3</th>\n",
       "    </tr>\n",
       "  </thead>\n",
       "  <tbody>\n",
       "    <tr>\n",
       "      <th>0</th>\n",
       "      <td>6.800000</td>\n",
       "      <td>0.037490</td>\n",
       "      <td>48.6034</td>\n",
       "      <td>2004</td>\n",
       "      <td>291.6204</td>\n",
       "      <td>0</td>\n",
       "      <td>1</td>\n",
       "      <td>0</td>\n",
       "      <td>0</td>\n",
       "      <td>0</td>\n",
       "      <td>...</td>\n",
       "      <td>0</td>\n",
       "      <td>0</td>\n",
       "      <td>1</td>\n",
       "      <td>0</td>\n",
       "      <td>1</td>\n",
       "      <td>0</td>\n",
       "      <td>0</td>\n",
       "      <td>1</td>\n",
       "      <td>0</td>\n",
       "      <td>0</td>\n",
       "    </tr>\n",
       "    <tr>\n",
       "      <th>1</th>\n",
       "      <td>15.600000</td>\n",
       "      <td>0.172597</td>\n",
       "      <td>114.8518</td>\n",
       "      <td>1997</td>\n",
       "      <td>2163.1842</td>\n",
       "      <td>0</td>\n",
       "      <td>1</td>\n",
       "      <td>0</td>\n",
       "      <td>0</td>\n",
       "      <td>0</td>\n",
       "      <td>...</td>\n",
       "      <td>0</td>\n",
       "      <td>0</td>\n",
       "      <td>1</td>\n",
       "      <td>1</td>\n",
       "      <td>0</td>\n",
       "      <td>0</td>\n",
       "      <td>0</td>\n",
       "      <td>1</td>\n",
       "      <td>0</td>\n",
       "      <td>0</td>\n",
       "    </tr>\n",
       "    <tr>\n",
       "      <th>2</th>\n",
       "      <td>12.911575</td>\n",
       "      <td>0.054721</td>\n",
       "      <td>107.8254</td>\n",
       "      <td>1985</td>\n",
       "      <td>2387.5588</td>\n",
       "      <td>0</td>\n",
       "      <td>1</td>\n",
       "      <td>0</td>\n",
       "      <td>0</td>\n",
       "      <td>0</td>\n",
       "      <td>...</td>\n",
       "      <td>0</td>\n",
       "      <td>1</td>\n",
       "      <td>0</td>\n",
       "      <td>0</td>\n",
       "      <td>0</td>\n",
       "      <td>1</td>\n",
       "      <td>0</td>\n",
       "      <td>0</td>\n",
       "      <td>0</td>\n",
       "      <td>1</td>\n",
       "    </tr>\n",
       "    <tr>\n",
       "      <th>3</th>\n",
       "      <td>11.800000</td>\n",
       "      <td>0.098312</td>\n",
       "      <td>81.4618</td>\n",
       "      <td>1998</td>\n",
       "      <td>161.1236</td>\n",
       "      <td>0</td>\n",
       "      <td>1</td>\n",
       "      <td>0</td>\n",
       "      <td>0</td>\n",
       "      <td>0</td>\n",
       "      <td>...</td>\n",
       "      <td>0</td>\n",
       "      <td>0</td>\n",
       "      <td>0</td>\n",
       "      <td>0</td>\n",
       "      <td>0</td>\n",
       "      <td>1</td>\n",
       "      <td>1</td>\n",
       "      <td>0</td>\n",
       "      <td>0</td>\n",
       "      <td>0</td>\n",
       "    </tr>\n",
       "    <tr>\n",
       "      <th>4</th>\n",
       "      <td>17.850000</td>\n",
       "      <td>0.046600</td>\n",
       "      <td>125.1388</td>\n",
       "      <td>2004</td>\n",
       "      <td>1981.4208</td>\n",
       "      <td>0</td>\n",
       "      <td>0</td>\n",
       "      <td>1</td>\n",
       "      <td>0</td>\n",
       "      <td>0</td>\n",
       "      <td>...</td>\n",
       "      <td>0</td>\n",
       "      <td>0</td>\n",
       "      <td>1</td>\n",
       "      <td>0</td>\n",
       "      <td>1</td>\n",
       "      <td>0</td>\n",
       "      <td>0</td>\n",
       "      <td>1</td>\n",
       "      <td>0</td>\n",
       "      <td>0</td>\n",
       "    </tr>\n",
       "  </tbody>\n",
       "</table>\n",
       "<p>5 rows × 36 columns</p>\n",
       "</div>"
      ],
      "text/plain": [
       "   Item_Weight  Item_Visibility  Item_MRP  Outlet_Establishment_Year  \\\n",
       "0     6.800000         0.037490   48.6034                       2004   \n",
       "1    15.600000         0.172597  114.8518                       1997   \n",
       "2    12.911575         0.054721  107.8254                       1985   \n",
       "3    11.800000         0.098312   81.4618                       1998   \n",
       "4    17.850000         0.046600  125.1388                       2004   \n",
       "\n",
       "   Item_Outlet_Sales  Item_Fat_Content_LF  Item_Fat_Content_Low Fat  \\\n",
       "0           291.6204                    0                         1   \n",
       "1          2163.1842                    0                         1   \n",
       "2          2387.5588                    0                         1   \n",
       "3           161.1236                    0                         1   \n",
       "4          1981.4208                    0                         0   \n",
       "\n",
       "   Item_Fat_Content_Regular  Item_Fat_Content_low fat  Item_Fat_Content_reg  \\\n",
       "0                         0                         0                     0   \n",
       "1                         0                         0                     0   \n",
       "2                         0                         0                     0   \n",
       "3                         0                         0                     0   \n",
       "4                         1                         0                     0   \n",
       "\n",
       "   ...  Outlet_Size_High  Outlet_Size_Medium  Outlet_Size_Small  \\\n",
       "0  ...                 0                   0                  1   \n",
       "1  ...                 0                   0                  1   \n",
       "2  ...                 0                   1                  0   \n",
       "3  ...                 0                   0                  0   \n",
       "4  ...                 0                   0                  1   \n",
       "\n",
       "   Outlet_Location_Type_Tier 1  Outlet_Location_Type_Tier 2  \\\n",
       "0                            0                            1   \n",
       "1                            1                            0   \n",
       "2                            0                            0   \n",
       "3                            0                            0   \n",
       "4                            0                            1   \n",
       "\n",
       "   Outlet_Location_Type_Tier 3  Outlet_Type_Grocery Store  \\\n",
       "0                            0                          0   \n",
       "1                            0                          0   \n",
       "2                            1                          0   \n",
       "3                            1                          1   \n",
       "4                            0                          0   \n",
       "\n",
       "   Outlet_Type_Supermarket Type1  Outlet_Type_Supermarket Type2  \\\n",
       "0                              1                              0   \n",
       "1                              1                              0   \n",
       "2                              0                              0   \n",
       "3                              0                              0   \n",
       "4                              1                              0   \n",
       "\n",
       "   Outlet_Type_Supermarket Type3  \n",
       "0                              0  \n",
       "1                              0  \n",
       "2                              1  \n",
       "3                              0  \n",
       "4                              0  \n",
       "\n",
       "[5 rows x 36 columns]"
      ]
     },
     "execution_count": 71,
     "metadata": {},
     "output_type": "execute_result"
    }
   ],
   "source": [
    "train_data = pd.read_csv('train.csv') #we can use os library for universal import\n",
    "train_data.head()"
   ]
  },
  {
   "cell_type": "code",
   "execution_count": 72,
   "metadata": {},
   "outputs": [
    {
     "name": "stdout",
     "output_type": "stream",
     "text": [
      "<class 'pandas.core.frame.DataFrame'>\n",
      "RangeIndex: 1364 entries, 0 to 1363\n",
      "Data columns (total 36 columns):\n",
      " #   Column                           Non-Null Count  Dtype  \n",
      "---  ------                           --------------  -----  \n",
      " 0   Item_Weight                      1364 non-null   float64\n",
      " 1   Item_Visibility                  1364 non-null   float64\n",
      " 2   Item_MRP                         1364 non-null   float64\n",
      " 3   Outlet_Establishment_Year        1364 non-null   int64  \n",
      " 4   Item_Outlet_Sales                1364 non-null   float64\n",
      " 5   Item_Fat_Content_LF              1364 non-null   int64  \n",
      " 6   Item_Fat_Content_Low Fat         1364 non-null   int64  \n",
      " 7   Item_Fat_Content_Regular         1364 non-null   int64  \n",
      " 8   Item_Fat_Content_low fat         1364 non-null   int64  \n",
      " 9   Item_Fat_Content_reg             1364 non-null   int64  \n",
      " 10  Item_Type_Baking Goods           1364 non-null   int64  \n",
      " 11  Item_Type_Breads                 1364 non-null   int64  \n",
      " 12  Item_Type_Breakfast              1364 non-null   int64  \n",
      " 13  Item_Type_Canned                 1364 non-null   int64  \n",
      " 14  Item_Type_Dairy                  1364 non-null   int64  \n",
      " 15  Item_Type_Frozen Foods           1364 non-null   int64  \n",
      " 16  Item_Type_Fruits and Vegetables  1364 non-null   int64  \n",
      " 17  Item_Type_Hard Drinks            1364 non-null   int64  \n",
      " 18  Item_Type_Health and Hygiene     1364 non-null   int64  \n",
      " 19  Item_Type_Household              1364 non-null   int64  \n",
      " 20  Item_Type_Meat                   1364 non-null   int64  \n",
      " 21  Item_Type_Others                 1364 non-null   int64  \n",
      " 22  Item_Type_Seafood                1364 non-null   int64  \n",
      " 23  Item_Type_Snack Foods            1364 non-null   int64  \n",
      " 24  Item_Type_Soft Drinks            1364 non-null   int64  \n",
      " 25  Item_Type_Starchy Foods          1364 non-null   int64  \n",
      " 26  Outlet_Size_High                 1364 non-null   int64  \n",
      " 27  Outlet_Size_Medium               1364 non-null   int64  \n",
      " 28  Outlet_Size_Small                1364 non-null   int64  \n",
      " 29  Outlet_Location_Type_Tier 1      1364 non-null   int64  \n",
      " 30  Outlet_Location_Type_Tier 2      1364 non-null   int64  \n",
      " 31  Outlet_Location_Type_Tier 3      1364 non-null   int64  \n",
      " 32  Outlet_Type_Grocery Store        1364 non-null   int64  \n",
      " 33  Outlet_Type_Supermarket Type1    1364 non-null   int64  \n",
      " 34  Outlet_Type_Supermarket Type2    1364 non-null   int64  \n",
      " 35  Outlet_Type_Supermarket Type3    1364 non-null   int64  \n",
      "dtypes: float64(4), int64(32)\n",
      "memory usage: 383.8 KB\n"
     ]
    }
   ],
   "source": [
    "train_data.info()"
   ]
  },
  {
   "cell_type": "code",
   "execution_count": 73,
   "metadata": {},
   "outputs": [
    {
     "data": {
      "text/plain": [
       "Item_Weight                         310\n",
       "Item_Visibility                    1280\n",
       "Item_MRP                           1288\n",
       "Outlet_Establishment_Year             9\n",
       "Item_Outlet_Sales                  1100\n",
       "Item_Fat_Content_LF                   2\n",
       "Item_Fat_Content_Low Fat              2\n",
       "Item_Fat_Content_Regular              2\n",
       "Item_Fat_Content_low fat              2\n",
       "Item_Fat_Content_reg                  2\n",
       "Item_Type_Baking Goods                2\n",
       "Item_Type_Breads                      2\n",
       "Item_Type_Breakfast                   2\n",
       "Item_Type_Canned                      2\n",
       "Item_Type_Dairy                       2\n",
       "Item_Type_Frozen Foods                2\n",
       "Item_Type_Fruits and Vegetables       2\n",
       "Item_Type_Hard Drinks                 2\n",
       "Item_Type_Health and Hygiene          2\n",
       "Item_Type_Household                   2\n",
       "Item_Type_Meat                        2\n",
       "Item_Type_Others                      2\n",
       "Item_Type_Seafood                     2\n",
       "Item_Type_Snack Foods                 2\n",
       "Item_Type_Soft Drinks                 2\n",
       "Item_Type_Starchy Foods               2\n",
       "Outlet_Size_High                      2\n",
       "Outlet_Size_Medium                    2\n",
       "Outlet_Size_Small                     2\n",
       "Outlet_Location_Type_Tier 1           2\n",
       "Outlet_Location_Type_Tier 2           2\n",
       "Outlet_Location_Type_Tier 3           2\n",
       "Outlet_Type_Grocery Store             2\n",
       "Outlet_Type_Supermarket Type1         2\n",
       "Outlet_Type_Supermarket Type2         2\n",
       "Outlet_Type_Supermarket Type3         2\n",
       "dtype: int64"
      ]
     },
     "execution_count": 73,
     "metadata": {},
     "output_type": "execute_result"
    }
   ],
   "source": [
    "train_data.nunique()"
   ]
  },
  {
   "cell_type": "code",
   "execution_count": 74,
   "metadata": {},
   "outputs": [
    {
     "data": {
      "text/plain": [
       "(1364, 36)"
      ]
     },
     "execution_count": 74,
     "metadata": {},
     "output_type": "execute_result"
    }
   ],
   "source": [
    "train_data.shape"
   ]
  },
  {
   "cell_type": "code",
   "execution_count": 75,
   "metadata": {},
   "outputs": [],
   "source": [
    "test_data = pd.read_csv('test.csv')"
   ]
  },
  {
   "cell_type": "code",
   "execution_count": 76,
   "metadata": {},
   "outputs": [
    {
     "name": "stdout",
     "output_type": "stream",
     "text": [
      "<class 'pandas.core.frame.DataFrame'>\n",
      "RangeIndex: 341 entries, 0 to 340\n",
      "Data columns (total 36 columns):\n",
      " #   Column                           Non-Null Count  Dtype  \n",
      "---  ------                           --------------  -----  \n",
      " 0   Item_Weight                      341 non-null    float64\n",
      " 1   Item_Visibility                  341 non-null    float64\n",
      " 2   Item_MRP                         341 non-null    float64\n",
      " 3   Outlet_Establishment_Year        341 non-null    int64  \n",
      " 4   Item_Outlet_Sales                341 non-null    float64\n",
      " 5   Item_Fat_Content_LF              341 non-null    int64  \n",
      " 6   Item_Fat_Content_Low Fat         341 non-null    int64  \n",
      " 7   Item_Fat_Content_Regular         341 non-null    int64  \n",
      " 8   Item_Fat_Content_low fat         341 non-null    int64  \n",
      " 9   Item_Fat_Content_reg             341 non-null    int64  \n",
      " 10  Item_Type_Baking Goods           341 non-null    int64  \n",
      " 11  Item_Type_Breads                 341 non-null    int64  \n",
      " 12  Item_Type_Breakfast              341 non-null    int64  \n",
      " 13  Item_Type_Canned                 341 non-null    int64  \n",
      " 14  Item_Type_Dairy                  341 non-null    int64  \n",
      " 15  Item_Type_Frozen Foods           341 non-null    int64  \n",
      " 16  Item_Type_Fruits and Vegetables  341 non-null    int64  \n",
      " 17  Item_Type_Hard Drinks            341 non-null    int64  \n",
      " 18  Item_Type_Health and Hygiene     341 non-null    int64  \n",
      " 19  Item_Type_Household              341 non-null    int64  \n",
      " 20  Item_Type_Meat                   341 non-null    int64  \n",
      " 21  Item_Type_Others                 341 non-null    int64  \n",
      " 22  Item_Type_Seafood                341 non-null    int64  \n",
      " 23  Item_Type_Snack Foods            341 non-null    int64  \n",
      " 24  Item_Type_Soft Drinks            341 non-null    int64  \n",
      " 25  Item_Type_Starchy Foods          341 non-null    int64  \n",
      " 26  Outlet_Size_High                 341 non-null    int64  \n",
      " 27  Outlet_Size_Medium               341 non-null    int64  \n",
      " 28  Outlet_Size_Small                341 non-null    int64  \n",
      " 29  Outlet_Location_Type_Tier 1      341 non-null    int64  \n",
      " 30  Outlet_Location_Type_Tier 2      341 non-null    int64  \n",
      " 31  Outlet_Location_Type_Tier 3      341 non-null    int64  \n",
      " 32  Outlet_Type_Grocery Store        341 non-null    int64  \n",
      " 33  Outlet_Type_Supermarket Type1    341 non-null    int64  \n",
      " 34  Outlet_Type_Supermarket Type2    341 non-null    int64  \n",
      " 35  Outlet_Type_Supermarket Type3    341 non-null    int64  \n",
      "dtypes: float64(4), int64(32)\n",
      "memory usage: 96.0 KB\n"
     ]
    }
   ],
   "source": [
    "test_data.info()"
   ]
  },
  {
   "cell_type": "code",
   "execution_count": 77,
   "metadata": {},
   "outputs": [
    {
     "data": {
      "text/plain": [
       "(341, 36)"
      ]
     },
     "execution_count": 77,
     "metadata": {},
     "output_type": "execute_result"
    }
   ],
   "source": [
    "test_data.shape"
   ]
  },
  {
   "cell_type": "code",
   "execution_count": 78,
   "metadata": {},
   "outputs": [
    {
     "data": {
      "text/plain": [
       "Item_Weight                        159\n",
       "Item_Visibility                    317\n",
       "Item_MRP                           332\n",
       "Outlet_Establishment_Year            9\n",
       "Item_Outlet_Sales                  316\n",
       "Item_Fat_Content_LF                  2\n",
       "Item_Fat_Content_Low Fat             2\n",
       "Item_Fat_Content_Regular             2\n",
       "Item_Fat_Content_low fat             2\n",
       "Item_Fat_Content_reg                 2\n",
       "Item_Type_Baking Goods               2\n",
       "Item_Type_Breads                     2\n",
       "Item_Type_Breakfast                  2\n",
       "Item_Type_Canned                     2\n",
       "Item_Type_Dairy                      2\n",
       "Item_Type_Frozen Foods               2\n",
       "Item_Type_Fruits and Vegetables      2\n",
       "Item_Type_Hard Drinks                2\n",
       "Item_Type_Health and Hygiene         2\n",
       "Item_Type_Household                  2\n",
       "Item_Type_Meat                       2\n",
       "Item_Type_Others                     2\n",
       "Item_Type_Seafood                    2\n",
       "Item_Type_Snack Foods                2\n",
       "Item_Type_Soft Drinks                2\n",
       "Item_Type_Starchy Foods              2\n",
       "Outlet_Size_High                     2\n",
       "Outlet_Size_Medium                   2\n",
       "Outlet_Size_Small                    2\n",
       "Outlet_Location_Type_Tier 1          2\n",
       "Outlet_Location_Type_Tier 2          2\n",
       "Outlet_Location_Type_Tier 3          2\n",
       "Outlet_Type_Grocery Store            2\n",
       "Outlet_Type_Supermarket Type1        2\n",
       "Outlet_Type_Supermarket Type2        2\n",
       "Outlet_Type_Supermarket Type3        2\n",
       "dtype: int64"
      ]
     },
     "execution_count": 78,
     "metadata": {},
     "output_type": "execute_result"
    }
   ],
   "source": [
    "test_data.nunique()"
   ]
  },
  {
   "cell_type": "code",
   "execution_count": 79,
   "metadata": {},
   "outputs": [],
   "source": [
    "train_x = train_data.drop(columns=['Item_Outlet_Sales'],axis=1)\n",
    "train_y = train_data['Item_Outlet_Sales'].round()\n"
   ]
  },
  {
   "cell_type": "code",
   "execution_count": 80,
   "metadata": {},
   "outputs": [
    {
     "name": "stdout",
     "output_type": "stream",
     "text": [
      "1364\n"
     ]
    }
   ],
   "source": [
    "print(len(train_y))"
   ]
  },
  {
   "cell_type": "code",
   "execution_count": 81,
   "metadata": {},
   "outputs": [],
   "source": [
    "model = make_pipeline(PolynomialFeatures(2),LinearRegression())"
   ]
  },
  {
   "cell_type": "code",
   "execution_count": 82,
   "metadata": {},
   "outputs": [
    {
     "data": {
      "text/html": [
       "<style>#sk-container-id-3 {color: black;background-color: white;}#sk-container-id-3 pre{padding: 0;}#sk-container-id-3 div.sk-toggleable {background-color: white;}#sk-container-id-3 label.sk-toggleable__label {cursor: pointer;display: block;width: 100%;margin-bottom: 0;padding: 0.3em;box-sizing: border-box;text-align: center;}#sk-container-id-3 label.sk-toggleable__label-arrow:before {content: \"▸\";float: left;margin-right: 0.25em;color: #696969;}#sk-container-id-3 label.sk-toggleable__label-arrow:hover:before {color: black;}#sk-container-id-3 div.sk-estimator:hover label.sk-toggleable__label-arrow:before {color: black;}#sk-container-id-3 div.sk-toggleable__content {max-height: 0;max-width: 0;overflow: hidden;text-align: left;background-color: #f0f8ff;}#sk-container-id-3 div.sk-toggleable__content pre {margin: 0.2em;color: black;border-radius: 0.25em;background-color: #f0f8ff;}#sk-container-id-3 input.sk-toggleable__control:checked~div.sk-toggleable__content {max-height: 200px;max-width: 100%;overflow: auto;}#sk-container-id-3 input.sk-toggleable__control:checked~label.sk-toggleable__label-arrow:before {content: \"▾\";}#sk-container-id-3 div.sk-estimator input.sk-toggleable__control:checked~label.sk-toggleable__label {background-color: #d4ebff;}#sk-container-id-3 div.sk-label input.sk-toggleable__control:checked~label.sk-toggleable__label {background-color: #d4ebff;}#sk-container-id-3 input.sk-hidden--visually {border: 0;clip: rect(1px 1px 1px 1px);clip: rect(1px, 1px, 1px, 1px);height: 1px;margin: -1px;overflow: hidden;padding: 0;position: absolute;width: 1px;}#sk-container-id-3 div.sk-estimator {font-family: monospace;background-color: #f0f8ff;border: 1px dotted black;border-radius: 0.25em;box-sizing: border-box;margin-bottom: 0.5em;}#sk-container-id-3 div.sk-estimator:hover {background-color: #d4ebff;}#sk-container-id-3 div.sk-parallel-item::after {content: \"\";width: 100%;border-bottom: 1px solid gray;flex-grow: 1;}#sk-container-id-3 div.sk-label:hover label.sk-toggleable__label {background-color: #d4ebff;}#sk-container-id-3 div.sk-serial::before {content: \"\";position: absolute;border-left: 1px solid gray;box-sizing: border-box;top: 0;bottom: 0;left: 50%;z-index: 0;}#sk-container-id-3 div.sk-serial {display: flex;flex-direction: column;align-items: center;background-color: white;padding-right: 0.2em;padding-left: 0.2em;position: relative;}#sk-container-id-3 div.sk-item {position: relative;z-index: 1;}#sk-container-id-3 div.sk-parallel {display: flex;align-items: stretch;justify-content: center;background-color: white;position: relative;}#sk-container-id-3 div.sk-item::before, #sk-container-id-3 div.sk-parallel-item::before {content: \"\";position: absolute;border-left: 1px solid gray;box-sizing: border-box;top: 0;bottom: 0;left: 50%;z-index: -1;}#sk-container-id-3 div.sk-parallel-item {display: flex;flex-direction: column;z-index: 1;position: relative;background-color: white;}#sk-container-id-3 div.sk-parallel-item:first-child::after {align-self: flex-end;width: 50%;}#sk-container-id-3 div.sk-parallel-item:last-child::after {align-self: flex-start;width: 50%;}#sk-container-id-3 div.sk-parallel-item:only-child::after {width: 0;}#sk-container-id-3 div.sk-dashed-wrapped {border: 1px dashed gray;margin: 0 0.4em 0.5em 0.4em;box-sizing: border-box;padding-bottom: 0.4em;background-color: white;}#sk-container-id-3 div.sk-label label {font-family: monospace;font-weight: bold;display: inline-block;line-height: 1.2em;}#sk-container-id-3 div.sk-label-container {text-align: center;}#sk-container-id-3 div.sk-container {/* jupyter's `normalize.less` sets `[hidden] { display: none; }` but bootstrap.min.css set `[hidden] { display: none !important; }` so we also need the `!important` here to be able to override the default hidden behavior on the sphinx rendered scikit-learn.org. See: https://github.com/scikit-learn/scikit-learn/issues/21755 */display: inline-block !important;position: relative;}#sk-container-id-3 div.sk-text-repr-fallback {display: none;}</style><div id=\"sk-container-id-3\" class=\"sk-top-container\"><div class=\"sk-text-repr-fallback\"><pre>Pipeline(steps=[(&#x27;polynomialfeatures&#x27;, PolynomialFeatures()),\n",
       "                (&#x27;linearregression&#x27;, LinearRegression())])</pre><b>In a Jupyter environment, please rerun this cell to show the HTML representation or trust the notebook. <br />On GitHub, the HTML representation is unable to render, please try loading this page with nbviewer.org.</b></div><div class=\"sk-container\" hidden><div class=\"sk-item sk-dashed-wrapped\"><div class=\"sk-label-container\"><div class=\"sk-label sk-toggleable\"><input class=\"sk-toggleable__control sk-hidden--visually\" id=\"sk-estimator-id-5\" type=\"checkbox\" ><label for=\"sk-estimator-id-5\" class=\"sk-toggleable__label sk-toggleable__label-arrow\">Pipeline</label><div class=\"sk-toggleable__content\"><pre>Pipeline(steps=[(&#x27;polynomialfeatures&#x27;, PolynomialFeatures()),\n",
       "                (&#x27;linearregression&#x27;, LinearRegression())])</pre></div></div></div><div class=\"sk-serial\"><div class=\"sk-item\"><div class=\"sk-estimator sk-toggleable\"><input class=\"sk-toggleable__control sk-hidden--visually\" id=\"sk-estimator-id-6\" type=\"checkbox\" ><label for=\"sk-estimator-id-6\" class=\"sk-toggleable__label sk-toggleable__label-arrow\">PolynomialFeatures</label><div class=\"sk-toggleable__content\"><pre>PolynomialFeatures()</pre></div></div></div><div class=\"sk-item\"><div class=\"sk-estimator sk-toggleable\"><input class=\"sk-toggleable__control sk-hidden--visually\" id=\"sk-estimator-id-7\" type=\"checkbox\" ><label for=\"sk-estimator-id-7\" class=\"sk-toggleable__label sk-toggleable__label-arrow\">LinearRegression</label><div class=\"sk-toggleable__content\"><pre>LinearRegression()</pre></div></div></div></div></div></div></div>"
      ],
      "text/plain": [
       "Pipeline(steps=[('polynomialfeatures', PolynomialFeatures()),\n",
       "                ('linearregression', LinearRegression())])"
      ]
     },
     "execution_count": 82,
     "metadata": {},
     "output_type": "execute_result"
    }
   ],
   "source": [
    "model.fit(train_x,train_y)"
   ]
  },
  {
   "cell_type": "code",
   "execution_count": 83,
   "metadata": {},
   "outputs": [
    {
     "data": {
      "text/plain": [
       "array([ 468., 2305., 2405., ...,  704., 2356., 2210.])"
      ]
     },
     "execution_count": 83,
     "metadata": {},
     "output_type": "execute_result"
    }
   ],
   "source": [
    "predict_train =  model.predict(train_x).round()\n",
    "predict_train"
   ]
  },
  {
   "cell_type": "code",
   "execution_count": 84,
   "metadata": {},
   "outputs": [
    {
     "data": {
      "text/plain": [
       "958.2456592136275"
      ]
     },
     "execution_count": 84,
     "metadata": {},
     "output_type": "execute_result"
    }
   ],
   "source": [
    "mean_squared_error(train_y,predict_train)**(0.5)"
   ]
  },
  {
   "cell_type": "code",
   "execution_count": 86,
   "metadata": {},
   "outputs": [
    {
     "data": {
      "text/plain": [
       "0.7064066635310168"
      ]
     },
     "execution_count": 86,
     "metadata": {},
     "output_type": "execute_result"
    }
   ],
   "source": [
    "r2_score(train_y,predict_train)"
   ]
  },
  {
   "cell_type": "code",
   "execution_count": 90,
   "metadata": {},
   "outputs": [
    {
     "data": {
      "text/plain": [
       "0.0021994134897360706"
      ]
     },
     "execution_count": 90,
     "metadata": {},
     "output_type": "execute_result"
    }
   ],
   "source": [
    "accuracy_score(train_y,predict_train)"
   ]
  }
 ],
 "metadata": {
  "kernelspec": {
   "display_name": "Python 3",
   "language": "python",
   "name": "python3"
  },
  "language_info": {
   "codemirror_mode": {
    "name": "ipython",
    "version": 3
   },
   "file_extension": ".py",
   "mimetype": "text/x-python",
   "name": "python",
   "nbconvert_exporter": "python",
   "pygments_lexer": "ipython3",
   "version": "3.10.12"
  },
  "orig_nbformat": 4
 },
 "nbformat": 4,
 "nbformat_minor": 2
}
